{
 "cells": [
  {
   "cell_type": "code",
   "execution_count": 1,
   "metadata": {},
   "outputs": [],
   "source": [
    "import os"
   ]
  },
  {
   "cell_type": "code",
   "execution_count": 5,
   "metadata": {},
   "outputs": [
    {
     "data": {
      "text/plain": [
       "'c:\\\\Users\\\\ubaid\\\\Downloads\\\\MLOps\\\\SalesForecasting\\\\research'"
      ]
     },
     "execution_count": 5,
     "metadata": {},
     "output_type": "execute_result"
    }
   ],
   "source": [
    "%pwd"
   ]
  },
  {
   "cell_type": "code",
   "execution_count": 6,
   "metadata": {},
   "outputs": [],
   "source": [
    "os.chdir('../')"
   ]
  },
  {
   "cell_type": "code",
   "execution_count": 7,
   "metadata": {},
   "outputs": [
    {
     "data": {
      "text/plain": [
       "'c:\\\\Users\\\\ubaid\\\\Downloads\\\\MLOps\\\\SalesForecasting'"
      ]
     },
     "execution_count": 7,
     "metadata": {},
     "output_type": "execute_result"
    }
   ],
   "source": [
    "pwd"
   ]
  },
  {
   "cell_type": "code",
   "execution_count": 8,
   "metadata": {},
   "outputs": [],
   "source": [
    "import os\n",
    "import pandas as pd\n",
    "import pymysql\n",
    "from sqlalchemy import create_engine\n",
    "import yaml\n",
    "from dataclasses import dataclass\n",
    "from pathlib import Path\n",
    "import ipaddress\n",
    "from videogamesforecasting.constants import *\n",
    "from videogamesforecasting.utils.common import read_yaml, create_directories\n",
    "\n",
    "\n",
    "\n",
    "# included it in src\\videogamesforecasting\\entity\\config_entity.py\n",
    "@dataclass(frozen=True)\n",
    "class DataIngestionConfig:\n",
    "    s_type: str\n",
    "    host: ipaddress.IPv4Address\n",
    "    port: int\n",
    "    database: str\n",
    "    username: str\n",
    "    password: str\n",
    "    query: str\n",
    "    d_type: str\n",
    "    path: Path\n",
    "    include_column_names: str"
   ]
  },
  {
   "cell_type": "code",
   "execution_count": null,
   "metadata": {},
   "outputs": [],
   "source": [
    "# included it in src\\videogamesforecasting\\config\\configuration.py\n",
    "class ConfigurationManager:\n",
    "    def __init__(\n",
    "        self,\n",
    "        # from constants\n",
    "        config_filepath = CONFIG_FILE_PATH,\n",
    "        params_filepath = PARAMS_FILE_PATH,\n",
    "        schema_filepath = SCHEMA_FILE_PATH):\n",
    "\n",
    "        self.config = read_yaml(config_filepath)\n",
    "        self.params = read_yaml(params_filepath)\n",
    "        self.schema = read_yaml(schema_filepath)\n",
    "\n",
    "        (create_directories([self.config.artifacts_root]))\n",
    "\n",
    "    def get_data_ingestion_config(self) -> DataIngestionConfig:\n",
    "        config = self.config.data_ingestion\n",
    "\n",
    "        create_directories([os.path.split(config.destination.path)[0]])\n",
    "\n",
    "        data_ingestion_config = DataIngestionConfig(\n",
    "            s_type= config.source.type,\n",
    "            host= config.source.host,\n",
    "            port= config.source.port,\n",
    "            database= config.source.database,\n",
    "            username= config.source.username,\n",
    "            password= config.source.password,\n",
    "            query= config.source.query,\n",
    "            d_type=config.destination.type,\n",
    "            path= config.destination.path,\n",
    "            include_column_names= config.destination.include_column_names\n",
    "        )\n",
    "\n",
    "        return data_ingestion_config"
   ]
  },
  {
   "cell_type": "code",
   "execution_count": null,
   "metadata": {},
   "outputs": [],
   "source": [
    "# included it in src\\videogamesforecasting\\components\\data_ingestion.py\n",
    "\n",
    "from videogamesforecasting.logging import logger\n",
    "class DataIngestion:\n",
    "    def __init__(self, config_path=\"config/config.yaml\"):\n",
    "        with open(config_path, \"r\") as config_file:\n",
    "            self.config = yaml.safe_load(config_file)[\"data_ingestion\"]\n",
    "\n",
    "        self.source_config = self.config[\"source\"]\n",
    "        self.destination_config = self.config[\"destination\"]\n",
    "\n",
    "    def connect_to_mysql(self):\n",
    "        engine = create_engine(\n",
    "            f\"mysql+pymysql://{self.source_config['username']}:{self.source_config['password']}@{self.source_config['host']}:{self.source_config['port']}/{self.source_config['database']}\"\n",
    "        )\n",
    "        return engine.connect()\n",
    "\n",
    "    def fetch_data_from_mysql(self):\n",
    "        connection = self.connect_to_mysql()\n",
    "        query = self.source_config[\"query\"]\n",
    "        data = pd.read_sql(query, connection)\n",
    "        connection.close()\n",
    "        return data\n",
    "\n",
    "    def save_to_csv(self, data):\n",
    "        path = self.destination_config[\"path\"]\n",
    "        include_column_names = self.destination_config.get(\"include_column_names\", False)\n",
    "\n",
    "        data.to_csv(path, index=False, header=include_column_names)\n",
    "\n",
    "    def run_ingestion(self):\n",
    "        data = self.fetch_data_from_mysql()\n",
    "        self.save_to_csv(data)\n",
    "        path = self.destination_config[\"path\"]\n",
    "        file=os.path.split(path)[1]\n",
    "\n",
    "        logger.info(f\"{file} is saved\")\n",
    "        \n",
    "\n"
   ]
  },
  {
   "cell_type": "code",
   "execution_count": null,
   "metadata": {},
   "outputs": [],
   "source": [
    "try:\n",
    "    config_manager=ConfigurationManager()\n",
    "    config_manager.get_data_ingestion_config()\n",
    "    data_ingestion = DataIngestion()\n",
    "    data_ingestion.run_ingestion()\n",
    "except Exception as e:\n",
    "    raise e"
   ]
  }
 ],
 "metadata": {
  "kernelspec": {
   "display_name": "Python 3",
   "language": "python",
   "name": "python3"
  },
  "language_info": {
   "codemirror_mode": {
    "name": "ipython",
    "version": 3
   },
   "file_extension": ".py",
   "mimetype": "text/x-python",
   "name": "python",
   "nbconvert_exporter": "python",
   "pygments_lexer": "ipython3",
   "version": "3.11.0"
  }
 },
 "nbformat": 4,
 "nbformat_minor": 2
}
