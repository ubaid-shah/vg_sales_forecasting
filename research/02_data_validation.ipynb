{
 "cells": [
  {
   "cell_type": "code",
   "execution_count": 1,
   "metadata": {},
   "outputs": [],
   "source": [
    "import os"
   ]
  },
  {
   "cell_type": "code",
   "execution_count": 2,
   "metadata": {},
   "outputs": [],
   "source": [
    "os.chdir('../')"
   ]
  },
  {
   "cell_type": "code",
   "execution_count": 3,
   "metadata": {},
   "outputs": [
    {
     "data": {
      "text/plain": [
       "'c:\\\\Users\\\\ubaid\\\\Downloads\\\\MLOps\\\\SalesForecasting'"
      ]
     },
     "execution_count": 3,
     "metadata": {},
     "output_type": "execute_result"
    }
   ],
   "source": [
    "pwd"
   ]
  },
  {
   "cell_type": "code",
   "execution_count": 1,
   "metadata": {},
   "outputs": [],
   "source": [
    "# included it in src\\videogamesforecasting\\entity\\config_entity.py\n",
    "\n",
    "from dataclasses import dataclass\n",
    "from pathlib import Path\n",
    "\n",
    "@dataclass(frozen=True)\n",
    "class DataValidationConfig:\n",
    "    dir: Path\n",
    "    data_dir: Path\n",
    "    STATUS_FILE: str\n",
    "    all_schema: dict\n",
    "\n"
   ]
  },
  {
   "cell_type": "code",
   "execution_count": 2,
   "metadata": {},
   "outputs": [],
   "source": [
    "import os\n",
    "from videogamesforecasting.constants import *\n",
    "from videogamesforecasting.utils.common import read_yaml, create_directories\n",
    "from videogamesforecasting.entity.config_entity import DataValidationConfig\n",
    "\n",
    "class ConfigurationManager:\n",
    "    def __init__(\n",
    "        self,\n",
    "        # from constants\n",
    "        config_filepath = CONFIG_FILE_PATH,\n",
    "        params_filepath = PARAMS_FILE_PATH,\n",
    "        schema_filepath = SCHEMA_FILE_PATH):\n",
    "\n",
    "        self.config = read_yaml(config_filepath)\n",
    "        self.params = read_yaml(params_filepath)\n",
    "        self.schema = read_yaml(schema_filepath)\n",
    "\n",
    "        (create_directories([self.config.artifacts_root]))\n",
    "\n",
    "    # included it in src\\videogamesforecasting\\config\\configuration.py\n",
    "\n",
    "    def get_data_validation_config(self) -> DataValidationConfig:\n",
    "        config = self.config.data_validation\n",
    "        schema = self.schema.COLUMNS\n",
    "\n",
    "        create_directories([os.path.split(config.STATUS_FILE)[0]])\n",
    "\n",
    "        get_data_validation_config = DataValidationConfig(\n",
    "            dir=config.dir,\n",
    "            data_dir=config.data_dir,\n",
    "            STATUS_FILE=config.STATUS_FILE,\n",
    "            all_schema=schema\n",
    "        )\n",
    "\n",
    "        return get_data_validation_config"
   ]
  },
  {
   "cell_type": "code",
   "execution_count": null,
   "metadata": {},
   "outputs": [],
   "source": [
    "# included it in src\\videogamesforecasting\\components\\data_validation.py\n",
    "\n",
    "from videogamesforecasting.logging import logger\n",
    "import pandas as pd\n",
    "import yaml\n",
    "\n",
    "class DataValidation:\n",
    "    def __init__(self, config_path=\"config/config.yaml\",schema_filepath=\"schema.yaml\"):\n",
    "        with open(config_path, \"r\") as config_file:\n",
    "            self.config = yaml.safe_load(config_file)[\"data_validation\"]\n",
    "        with open(schema_filepath,\"r\") as schema_file:\n",
    "            self.schema=yaml.safe_load(schema_file)[\"COLUMNS\"]\n",
    "\n",
    "        self.source_config = self.config\n",
    "        self.schema_config=self.schema.keys()\n",
    "\n",
    "       \n",
    "    def validate_all_columns(self)-> bool:\n",
    "        try:\n",
    "            validation_status = None\n",
    "\n",
    "            data = pd.read_csv(self.source_config['data_dir'])\n",
    "            all_cols = list(data.columns)\n",
    "\n",
    "            all_schema = self.schema_config\n",
    "\n",
    "            \n",
    "            for col in all_cols:\n",
    "                if col not in all_schema:\n",
    "                    validation_status = False\n",
    "                    with open(self.source_config['STATUS_FILE'], 'w') as f:\n",
    "                        f.write(f\"Validation status: {validation_status}\")\n",
    "                else:\n",
    "                    validation_status = True\n",
    "                    with open(self.source_config['STATUS_FILE'], 'w') as f:\n",
    "                        f.write(f\"Validation Status: {validation_status}\")\n",
    "\n",
    "            return validation_status\n",
    "        \n",
    "        except Exception as e:\n",
    "            raise e"
   ]
  },
  {
   "cell_type": "code",
   "execution_count": null,
   "metadata": {},
   "outputs": [],
   "source": [
    "try:\n",
    "    config=ConfigurationManager()\n",
    "    config.data_validation_config()\n",
    "    validate=DataValidation()\n",
    "    validate.validate_all_columns()\n",
    "except Exception as e:\n",
    "    raise e"
   ]
  }
 ],
 "metadata": {
  "kernelspec": {
   "display_name": "Python 3",
   "language": "python",
   "name": "python3"
  },
  "language_info": {
   "codemirror_mode": {
    "name": "ipython",
    "version": 3
   },
   "file_extension": ".py",
   "mimetype": "text/x-python",
   "name": "python",
   "nbconvert_exporter": "python",
   "pygments_lexer": "ipython3",
   "version": "3.11.0"
  }
 },
 "nbformat": 4,
 "nbformat_minor": 2
}
