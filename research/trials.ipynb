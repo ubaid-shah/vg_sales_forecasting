{
 "cells": [
  {
   "cell_type": "code",
   "execution_count": 7,
   "metadata": {},
   "outputs": [
    {
     "name": "stdout",
     "output_type": "stream",
     "text": [
      "127.0.0.1\n"
     ]
    }
   ],
   "source": [
    "\n",
    " \n",
    "# Example of valid IPv4 address\n",
    "print(ip_address(u'127.0.0.1'))"
   ]
  },
  {
   "cell_type": "code",
   "execution_count": 117,
   "metadata": {},
   "outputs": [],
   "source": [
    "import os\n",
    "import pandas as pd\n",
    "import pymysql\n",
    "from sqlalchemy import create_engine\n",
    "import yaml\n",
    "from dataclasses import dataclass\n",
    "from pathlib import Path\n",
    "import ipaddress\n",
    "from videogamesforecasting.constants import *\n",
    "from videogamesforecasting.utils.common import read_yaml, create_directories\n",
    "\n",
    "@dataclass(frozen=True)\n",
    "class DataIngestionConfig:\n",
    "    s_type: str\n",
    "    host: ipaddress.IPv4Address\n",
    "    port: int\n",
    "    database: str\n",
    "    username: str\n",
    "    password: str\n",
    "    query: str\n",
    "    d_type: str\n",
    "    path: Path\n",
    "    include_column_names: str\n",
    "\n",
    "\n",
    "\n"
   ]
  },
  {
   "cell_type": "code",
   "execution_count": 118,
   "metadata": {},
   "outputs": [
    {
     "name": "stdout",
     "output_type": "stream",
     "text": [
      "params.yaml\n"
     ]
    }
   ],
   "source": [
    "print(PARAMS_FILE_PATH)"
   ]
  },
  {
   "cell_type": "code",
   "execution_count": 119,
   "metadata": {},
   "outputs": [],
   "source": [
    "class ConfigurationManager:\n",
    "    def __init__(\n",
    "        self,\n",
    "        # from constants\n",
    "        config_filepath = CONFIG_FILE_PATH,\n",
    "        params_filepath = PARAMS_FILE_PATH,\n",
    "        schema_filepath = SCHEMA_FILE_PATH):\n",
    "\n",
    "        self.config = read_yaml(config_filepath)\n",
    "        self.params = read_yaml(params_filepath)\n",
    "        self.schema = read_yaml(schema_filepath)\n",
    "\n",
    "        (create_directories([self.config.artifacts_root]))\n",
    "\n",
    "    def get_data_ingestion_config(self) -> DataIngestionConfig:\n",
    "        config = self.config.data_ingestion\n",
    "\n",
    "        create_directories([os.path.split(config.destination.path)[0]])\n",
    "\n",
    "        data_ingestion_config = DataIngestionConfig(\n",
    "            s_type= config.source.type,\n",
    "            host= config.source.host,\n",
    "            port= config.source.port,\n",
    "            database= config.source.database,\n",
    "            username= config.source.username,\n",
    "            password= config.source.password,\n",
    "            query= config.source.query,\n",
    "            d_type=config.destination.type,\n",
    "            path= config.destination.path,\n",
    "            include_column_names= config.destination.include_column_names\n",
    "        )\n",
    "\n",
    "        return data_ingestion_config"
   ]
  },
  {
   "cell_type": "code",
   "execution_count": 120,
   "metadata": {},
   "outputs": [
    {
     "name": "stdout",
     "output_type": "stream",
     "text": [
      "[2024-02-03 21:49:18,380 - INFO - common - yaml file: config\\config.yaml loaded successfully]\n",
      "[2024-02-03 21:49:18,383 - INFO - common - yaml file: params.yaml loaded successfully]\n",
      "[2024-02-03 21:49:18,385 - INFO - common - yaml file: schema.yaml loaded successfully]\n",
      "[2024-02-03 21:49:18,387 - INFO - common - created directory at: artifacts]\n",
      "[2024-02-03 21:49:18,389 - INFO - common - created directory at: artifacts/data]\n"
     ]
    },
    {
     "data": {
      "text/plain": [
       "DataIngestionConfig(s_type='mysql', host='127.0.0.1', port=3306, database='sales', username='gamesales', password='ubaid123', query='SELECT * FROM videogames;', d_type='csv', path='artifacts/data/video_games_sales.csv', include_column_names=True)"
      ]
     },
     "execution_count": 120,
     "metadata": {},
     "output_type": "execute_result"
    }
   ],
   "source": [
    "ConfigurationManager().get_data_ingestion_config()"
   ]
  },
  {
   "cell_type": "markdown",
   "metadata": {},
   "source": []
  },
  {
   "cell_type": "code",
   "execution_count": 121,
   "metadata": {},
   "outputs": [],
   "source": [
    "from videogamesforecasting.logging import logger\n",
    "class DataIngestion:\n",
    "    def __init__(self, config_path=\"config/config.yaml\"):\n",
    "        with open(config_path, \"r\") as config_file:\n",
    "            self.config = yaml.safe_load(config_file)[\"data_ingestion\"]\n",
    "\n",
    "        self.source_config = self.config[\"source\"]\n",
    "        self.destination_config = self.config[\"destination\"]\n",
    "\n",
    "    def connect_to_mysql(self):\n",
    "        engine = create_engine(\n",
    "            f\"mysql+pymysql://{self.source_config['username']}:{self.source_config['password']}@{self.source_config['host']}:{self.source_config['port']}/{self.source_config['database']}\"\n",
    "        )\n",
    "        return engine.connect()\n",
    "\n",
    "    def fetch_data_from_mysql(self):\n",
    "        connection = self.connect_to_mysql()\n",
    "        query = self.source_config[\"query\"]\n",
    "        data = pd.read_sql(query, connection)\n",
    "        connection.close()\n",
    "        return data\n",
    "\n",
    "    def save_to_csv(self, data):\n",
    "        path = self.destination_config[\"path\"]\n",
    "        include_column_names = self.destination_config.get(\"include_column_names\", False)\n",
    "\n",
    "        data.to_csv(path, index=False, header=include_column_names)\n",
    "\n",
    "    def run_ingestion(self):\n",
    "        data = self.fetch_data_from_mysql()\n",
    "        self.save_to_csv(data)\n",
    "        path = self.destination_config[\"path\"]\n",
    "        file=os.path.split(path)[1]\n",
    "\n",
    "        logger.info(f\"{file} is saved\")\n",
    "        \n",
    "\n"
   ]
  },
  {
   "cell_type": "code",
   "execution_count": 122,
   "metadata": {},
   "outputs": [
    {
     "name": "stdout",
     "output_type": "stream",
     "text": [
      "[2024-02-03 21:49:21,916 - INFO - common - yaml file: config\\config.yaml loaded successfully]\n",
      "[2024-02-03 21:49:21,919 - INFO - common - yaml file: params.yaml loaded successfully]\n",
      "[2024-02-03 21:49:21,921 - INFO - common - yaml file: schema.yaml loaded successfully]\n",
      "[2024-02-03 21:49:21,922 - INFO - common - created directory at: artifacts]\n",
      "[2024-02-03 21:49:21,924 - INFO - common - created directory at: artifacts/data]\n",
      "[2024-02-03 21:49:22,877 - INFO - 2186890764 - video_games_sales.csv is saved]\n"
     ]
    }
   ],
   "source": [
    "config_manager=ConfigurationManager()\n",
    "config_manager.get_data_ingestion_config()\n",
    "data_ingestion = DataIngestion()\n",
    "data_ingestion.run_ingestion()"
   ]
  },
  {
   "cell_type": "code",
   "execution_count": 102,
   "metadata": {},
   "outputs": [],
   "source": [
    "\n",
    "class DataIngestion:\n",
    "    def __init__(self, config: DataIngestionConfig):\n",
    "        self.config = config\n",
    "\n",
    "    def load_config(self,config_file):\n",
    "        with open(config_file, 'r') as stream:\n",
    "            return yaml.safe_load(stream)\n",
    "\n",
    "    def fetch_data_from_mysql(config):\n",
    "        # Create a MySQL connection\n",
    "        config=config['data_ingestion']\n",
    "        engine = create_engine(f\"mysql+pymysql://{config['source']['username']}:{config['source']['password']}@{config['source']['host']}:{config['source']['port']}/{config['source']['database']}\")\n",
    "\n",
    "        # Execute the SQL query\n",
    "        query = config['source']['query']\n",
    "        df = pd.read_sql_query(query, engine)\n",
    "\n",
    "        return df\n",
    "\n",
    "    def save_to_csv(df, config):\n",
    "        # Save DataFrame to CSV with column headings\n",
    "        config=config['data_ingestion']\n",
    "        df.to_csv(config['destination']['path'], index=False,mode='w')\n",
    "\n",
    "    def main():\n",
    "        config = load_config('config/config.yaml')\n",
    "\n",
    "        # Fetch data from MySQL\n",
    "        data_frame = fetch_data_from_mysql(config)\n",
    "\n",
    "        # Save data to CSV\n",
    "        save_to_csv(data_frame, config)\n",
    "\n",
    "    if __name__ == \"__main__\":\n",
    "        main()\n"
   ]
  },
  {
   "cell_type": "code",
   "execution_count": 12,
   "metadata": {},
   "outputs": [],
   "source": [
    "import os\n",
    "import pymysql\n",
    "import zipfile\n",
    "from videogamesforecasting.logging import logger\n",
    "\n",
    "from videogamesforecasting.utils.common import get_size\n",
    "\n"
   ]
  },
  {
   "cell_type": "code",
   "execution_count": 77,
   "metadata": {},
   "outputs": [],
   "source": [
    "class DataIngestion:\n",
    "    def __init__(self, config: DataIngestionConfig):\n",
    "        self.config = config\n",
    "\n",
    "\n",
    "    \n",
    "    def download_file(self):\n",
    "        if not os.path.exists(self.config.local_data_file):\n",
    "            filename, headers = request.urlretrieve(\n",
    "                url = self.config.source_URL,\n",
    "                filename = self.config.local_data_file\n",
    "            )\n",
    "            logger.info(f\"{filename} download! with following info: \\n{headers}\")\n",
    "        else:\n",
    "            logger.info(f\"File already exists of size: {get_size(Path(self.config.local_data_file))}\")\n",
    "\n",
    "\n",
    "\n",
    "    \n",
    "    def extract_zip_file(self):\n",
    "        \"\"\"\n",
    "        zip_file_path: str\n",
    "        Extracts the zip file into the data directory\n",
    "        Function returns None\n",
    "        \"\"\"\n",
    "        unzip_path = self.config.unzip_dir\n",
    "        os.makedirs(unzip_path, exist_ok=True)\n",
    "        with zipfile.ZipFile(self.config.local_data_file, 'r') as zip_ref:\n",
    "            zip_ref.extractall(unzip_path)"
   ]
  },
  {
   "cell_type": "code",
   "execution_count": 19,
   "metadata": {},
   "outputs": [],
   "source": [
    "import os\n",
    "os.chdir('../')"
   ]
  },
  {
   "cell_type": "code",
   "execution_count": 78,
   "metadata": {},
   "outputs": [
    {
     "name": "stdout",
     "output_type": "stream",
     "text": [
      "[2024-02-03 19:17:08,426 - INFO - common - yaml file: config\\config.yaml loaded successfully]\n",
      "[2024-02-03 19:17:08,428 - INFO - common - yaml file: params.yaml loaded successfully]\n",
      "[2024-02-03 19:17:08,430 - INFO - common - yaml file: schema.yaml loaded successfully]\n",
      "[2024-02-03 19:17:08,432 - INFO - common - created directory at: artifacts]\n",
      "[2024-02-03 19:17:08,433 - INFO - common - created directory at: artifacts/data]\n"
     ]
    },
    {
     "data": {
      "text/plain": [
       "DataIngestionConfig(s_type='mysql', host='127.0.0.1', port=3306, database='sales', username='gamesales', password='ubaid123', query='SELECT * FROM videogames;', d_type='csv', path='artifacts/data/video_games_sales.csv')"
      ]
     },
     "execution_count": 78,
     "metadata": {},
     "output_type": "execute_result"
    }
   ],
   "source": [
    "ConfigurationManager().get_data_ingestion_config()"
   ]
  },
  {
   "cell_type": "code",
   "execution_count": 50,
   "metadata": {},
   "outputs": [
    {
     "data": {
      "text/plain": [
       "'artifacts/data'"
      ]
     },
     "execution_count": 50,
     "metadata": {},
     "output_type": "execute_result"
    }
   ],
   "source": [
    "import os\n",
    "os.path.split('artifacts/data/video_games_sales.csv')[0]"
   ]
  },
  {
   "cell_type": "code",
   "execution_count": 45,
   "metadata": {},
   "outputs": [
    {
     "data": {
      "text/plain": [
       "'artifacts/data'"
      ]
     },
     "execution_count": 45,
     "metadata": {},
     "output_type": "execute_result"
    }
   ],
   "source": [
    "dir"
   ]
  },
  {
   "cell_type": "code",
   "execution_count": 76,
   "metadata": {},
   "outputs": [
    {
     "name": "stdout",
     "output_type": "stream",
     "text": [
      "[2024-02-03 19:16:47,952 - INFO - common - yaml file: config\\config.yaml loaded successfully]\n"
     ]
    },
    {
     "data": {
      "text/plain": [
       "DataIngestionConfig(s_type='mysql', host='127.0.0.1', port=3306, database='sales', username='gamesales', password='ubaid123', query='SELECT * FROM videogames;', d_type='csv', path='artifacts/data/video_games_sales.csv')"
      ]
     },
     "execution_count": 76,
     "metadata": {},
     "output_type": "execute_result"
    }
   ],
   "source": [
    "config_filepath = CONFIG_FILE_PATH\n",
    "config = read_yaml(config_filepath).data_ingestion\n",
    "\n",
    "DataIngestionConfig(\n",
    "            s_type= config.source.type,\n",
    "            host= config.source.host,\n",
    "            port= config.source.port,\n",
    "            database= config.source.database,\n",
    "            username= config.source.username,\n",
    "            password= config.source.password,\n",
    "            query= config.source.query,\n",
    "            d_type=config.destination.type,\n",
    "            path= config.destination.path\n",
    "        )"
   ]
  },
  {
   "cell_type": "code",
   "execution_count": 69,
   "metadata": {},
   "outputs": [
    {
     "data": {
      "text/plain": [
       "'mysql'"
      ]
     },
     "execution_count": 69,
     "metadata": {},
     "output_type": "execute_result"
    }
   ],
   "source": [
    "config"
   ]
  },
  {
   "cell_type": "code",
   "execution_count": 81,
   "metadata": {},
   "outputs": [],
   "source": [
    "import yaml\n",
    "import pymysql\n",
    "import pandas as pd\n",
    "\n",
    "def load_config(file_path=config_filepath):\n",
    "    with open(file_path, 'r') as config_file:\n",
    "        config_data = yaml.safe_load(config_file)\n",
    "    return config_data\n",
    "\n",
    "def connect_to_mysql(config):\n",
    "    connection = pymysql.connect(\n",
    "        host=config['data_ingestion']['source']['host'],\n",
    "        port=config['data_ingestion']['source']['port'],\n",
    "        user=config['data_ingestion']['source']['username'],\n",
    "        password=config['data_ingestion']['source']['password'],\n",
    "        database=config['data_ingestion']['source']['database']\n",
    "    )\n",
    "    return connection\n",
    "\n",
    "def execute_query(connection, query):\n",
    "    with connection.cursor() as cursor:\n",
    "        cursor.execute(query)\n",
    "        result = cursor.fetchall()\n",
    "    return result\n",
    "\n",
    "def save_to_csv(data, file_path):\n",
    "    df = pd.DataFrame(data)\n",
    "    df.to_csv(file_path, index=False)\n",
    "\n",
    "def main():\n",
    "    config = load_config('config/config.yaml')\n",
    "\n",
    "    mysql_connection = connect_to_mysql(config)\n",
    "    query = config['data_ingestion']['source']['query']\n",
    "    result = execute_query(mysql_connection, query)\n",
    "\n",
    "    destination_path = config['data_ingestion']['destination']['path']\n",
    "    save_to_csv(result, destination_path)\n",
    "\n",
    "    mysql_connection.close()\n",
    "\n",
    "if __name__ == \"__main__\":\n",
    "    main()\n",
    "    \n"
   ]
  },
  {
   "cell_type": "code",
   "execution_count": 86,
   "metadata": {},
   "outputs": [],
   "source": []
  },
  {
   "cell_type": "code",
   "execution_count": 87,
   "metadata": {},
   "outputs": [],
   "source": [
    "os.makedirs('mango/1.txt')"
   ]
  },
  {
   "cell_type": "code",
   "execution_count": 103,
   "metadata": {},
   "outputs": [],
   "source": [
    "def new(x,y):\n",
    "    return x+y\n",
    "    return x*y"
   ]
  },
  {
   "cell_type": "code",
   "execution_count": 104,
   "metadata": {},
   "outputs": [
    {
     "data": {
      "text/plain": [
       "9"
      ]
     },
     "execution_count": 104,
     "metadata": {},
     "output_type": "execute_result"
    }
   ],
   "source": [
    "new(3,6)"
   ]
  },
  {
   "cell_type": "code",
   "execution_count": 60,
   "metadata": {},
   "outputs": [],
   "source": [
    "import os\n",
    "from videogamesforecasting.constants import *\n",
    "from videogamesforecasting.utils.common import read_yaml, create_directories\n",
    "from videogamesforecasting.entity.config_entity import DataIngestionConfig\n",
    "\n",
    "from dataclasses import dataclass\n",
    "from pathlib import Path\n",
    "\n",
    "@dataclass(frozen=True)\n",
    "class DataValidationConfig:\n",
    "    dir: Path\n",
    "    data_dir: Path\n",
    "    STATUS_FILE: str\n",
    "    all_schema: dict\n",
    "\n",
    "class ConfigurationManager:\n",
    "    def __init__(\n",
    "        self,\n",
    "        # from constants\n",
    "        config_filepath = CONFIG_FILE_PATH,\n",
    "        params_filepath = PARAMS_FILE_PATH,\n",
    "        schema_filepath = SCHEMA_FILE_PATH):\n",
    "        \n",
    "        self.config = read_yaml(config_filepath)\n",
    "        self.params = read_yaml(params_filepath)\n",
    "        self.schema = read_yaml(schema_filepath)\n",
    "\n",
    "        create_directories([self.config.artifacts_root])\n",
    "\n",
    "    def data_validation_config(self) -> DataValidationConfig:\n",
    "        config = self.config.data_validation\n",
    "        schema = self.schema.COLUMNS\n",
    "\n",
    "        create_directories([os.path.split(config.STATUS_FILE)[0]])\n",
    "\n",
    "        get_data_validation_config = DataValidationConfig(\n",
    "            dir=config.dir,\n",
    "            data_dir=config.data_dir,\n",
    "            STATUS_FILE=config.STATUS_FILE,\n",
    "            all_schema=schema\n",
    "        )\n",
    "\n",
    "        return get_data_validation_config"
   ]
  },
  {
   "cell_type": "code",
   "execution_count": 51,
   "metadata": {},
   "outputs": [
    {
     "name": "stdout",
     "output_type": "stream",
     "text": [
      "[2024-02-04 14:05:22,036 - INFO - common - yaml file: config\\config.yaml loaded successfully]\n",
      "[2024-02-04 14:05:22,038 - INFO - common - yaml file: params.yaml loaded successfully]\n",
      "[2024-02-04 14:05:22,042 - INFO - common - yaml file: schema.yaml loaded successfully]\n",
      "[2024-02-04 14:05:22,044 - INFO - common - created directory at: artifacts]\n",
      "[2024-02-04 14:05:22,045 - INFO - common - created directory at: artifacts/data_validation]\n"
     ]
    },
    {
     "data": {
      "text/plain": [
       "DataValidationConfig(dir='artifacts/data_validation', data_dir='artifacts/data_ingestion/video_games_sales.csv', STATUS_FILE='artifacts/data_validation/status.txt', all_schema=ConfigBox({'Name': 'object', 'Platform': 'object', 'Year_of_Release': 'float64', 'Genre': 'object', 'Publisher': 'object', 'NA_Sales': 'float64', 'EU_Sales': 'float64', 'JP_Sales': 'float64', 'Other_Sales': 'float64', 'Global_Sales': 'float64', 'Critic_Score': 'float64', 'Critic_Count': 'float64', 'User_Score': 'object', 'User_Count': 'float64', 'Developer': 'object', 'Rating': 'object'}))"
      ]
     },
     "execution_count": 51,
     "metadata": {},
     "output_type": "execute_result"
    }
   ],
   "source": []
  },
  {
   "cell_type": "code",
   "execution_count": 8,
   "metadata": {},
   "outputs": [
    {
     "data": {
      "text/plain": [
       "WindowsPath('config/config.yaml')"
      ]
     },
     "execution_count": 8,
     "metadata": {},
     "output_type": "execute_result"
    }
   ],
   "source": [
    "config_filepath"
   ]
  },
  {
   "cell_type": "code",
   "execution_count": 13,
   "metadata": {},
   "outputs": [],
   "source": [
    "os.chdir ('../')"
   ]
  },
  {
   "cell_type": "code",
   "execution_count": 14,
   "metadata": {},
   "outputs": [
    {
     "data": {
      "text/plain": [
       "'c:\\\\Users\\\\ubaid\\\\Downloads\\\\MLOps\\\\SalesForecasting'"
      ]
     },
     "execution_count": 14,
     "metadata": {},
     "output_type": "execute_result"
    }
   ],
   "source": [
    "pwd"
   ]
  },
  {
   "cell_type": "code",
   "execution_count": 94,
   "metadata": {},
   "outputs": [],
   "source": [
    "import os\n",
    "from videogamesforecasting.logging import logger\n",
    "import pandas as pd\n",
    "import yaml\n",
    "\n",
    "class DataValidation:\n",
    "    def __init__(self, config_path=\"config/config.yaml\",schema_filepath=\"schema.yaml\"):\n",
    "        with open(config_path, \"r\") as config_file:\n",
    "            self.config = yaml.safe_load(config_file)[\"data_validation\"]\n",
    "        with open(schema_filepath,\"r\") as schema_file:\n",
    "            self.schema=yaml.safe_load(schema_file)[\"COLUMNS\"]\n",
    "\n",
    "        self.source_config = self.config\n",
    "        self.schema_config=self.schema.keys()\n",
    "\n",
    "       \n",
    "    def validate_all_columns(self)-> bool:\n",
    "        try:\n",
    "            validation_status = None\n",
    "\n",
    "            data = pd.read_csv(self.source_config['data_dir'])\n",
    "            all_cols = list(data.columns)\n",
    "\n",
    "            all_schema = self.schema_config\n",
    "\n",
    "            \n",
    "            for col in all_cols:\n",
    "                if col not in all_schema:\n",
    "                    validation_status = False\n",
    "                    with open(self.source_config['STATUS_FILE'], 'w') as f:\n",
    "                        f.write(f\"Validation status: {validation_status}\")\n",
    "                else:\n",
    "                    validation_status = True\n",
    "                    with open(self.source_config['STATUS_FILE'], 'w') as f:\n",
    "                        f.write(f\"Validation Status: {validation_status}\")\n",
    "\n",
    "            return validation_status\n",
    "        \n",
    "        except Exception as e:\n",
    "            raise e\n",
    "\n",
    "\n",
    "    "
   ]
  },
  {
   "cell_type": "code",
   "execution_count": 61,
   "metadata": {},
   "outputs": [],
   "source": [
    "import os\n",
    "from videogamesforecasting.logging import logger\n",
    "import pandas as pd\n",
    "\n",
    "\n",
    "class DataValidation:\n",
    "    def __init__(self, config: DataValidationConfig):\n",
    "        self.config = config\n",
    "\n",
    "    \n",
    "\n",
    "\n",
    "\n"
   ]
  },
  {
   "cell_type": "code",
   "execution_count": 95,
   "metadata": {},
   "outputs": [
    {
     "data": {
      "text/plain": [
       "True"
      ]
     },
     "execution_count": 95,
     "metadata": {},
     "output_type": "execute_result"
    }
   ],
   "source": [
    "DataValidation().validate_all_columns()"
   ]
  },
  {
   "cell_type": "code",
   "execution_count": 97,
   "metadata": {},
   "outputs": [
    {
     "name": "stdout",
     "output_type": "stream",
     "text": [
      "[2024-02-04 15:27:20,696 - INFO - common - yaml file: config\\config.yaml loaded successfully]\n",
      "[2024-02-04 15:27:20,698 - INFO - common - yaml file: params.yaml loaded successfully]\n",
      "[2024-02-04 15:27:20,702 - INFO - common - yaml file: schema.yaml loaded successfully]\n",
      "[2024-02-04 15:27:20,703 - INFO - common - created directory at: artifacts]\n",
      "[2024-02-04 15:27:20,706 - INFO - common - created directory at: artifacts/data_validation]\n"
     ]
    }
   ],
   "source": [
    "try:\n",
    "    config=ConfigurationManager()\n",
    "    config.data_validation_config()\n",
    "    validate=DataValidation()\n",
    "    validate.validate_all_columns()\n",
    "except Exception as e:\n",
    "    raise e"
   ]
  },
  {
   "cell_type": "code",
   "execution_count": 67,
   "metadata": {},
   "outputs": [
    {
     "ename": "TypeError",
     "evalue": "DataValidationConfig.__init__() missing 4 required positional arguments: 'dir', 'data_dir', 'STATUS_FILE', and 'all_schema'",
     "output_type": "error",
     "traceback": [
      "\u001b[1;31m---------------------------------------------------------------------------\u001b[0m",
      "\u001b[1;31mTypeError\u001b[0m                                 Traceback (most recent call last)",
      "Cell \u001b[1;32mIn[67], line 1\u001b[0m\n\u001b[1;32m----> 1\u001b[0m \u001b[43mDataValidationConfig\u001b[49m\u001b[43m(\u001b[49m\u001b[43m)\u001b[49m\n",
      "\u001b[1;31mTypeError\u001b[0m: DataValidationConfig.__init__() missing 4 required positional arguments: 'dir', 'data_dir', 'STATUS_FILE', and 'all_schema'"
     ]
    }
   ],
   "source": [
    "DataValidationConfig()"
   ]
  },
  {
   "cell_type": "code",
   "execution_count": 98,
   "metadata": {},
   "outputs": [],
   "source": [
    "# included it in src\\videogamesforecasting\\entity\\config_entity.py\n",
    "\n",
    "from dataclasses import dataclass\n",
    "from pathlib import Path\n",
    "\n",
    "@dataclass(frozen=True)\n",
    "class DataTransformationConfig:\n",
    "    dir: Path\n",
    "    data_dir: Path"
   ]
  },
  {
   "cell_type": "code",
   "execution_count": 99,
   "metadata": {},
   "outputs": [],
   "source": [
    "from videogamesforecasting.constants import *\n",
    "from videogamesforecasting.utils.common import read_yaml, create_directories\n",
    "from videogamesforecasting.entity.config_entity import *\n",
    "\n",
    "class ConfigurationManager:\n",
    "    def __init__(\n",
    "        self,\n",
    "        # from constants\n",
    "        config_filepath = CONFIG_FILE_PATH,\n",
    "        params_filepath = PARAMS_FILE_PATH,\n",
    "        schema_filepath = SCHEMA_FILE_PATH):\n",
    "\n",
    "        self.config = read_yaml(config_filepath)\n",
    "        self.params = read_yaml(params_filepath)\n",
    "        self.schema = read_yaml(schema_filepath)\n",
    "\n",
    "        (create_directories([self.config.artifacts_root]))\n",
    "\n",
    "    # included it in src\\videogamesforecasting\\config\\configuration.py\n",
    "\n",
    "    def get_data_transformation_config(self) -> DataTransformationConfig:\n",
    "        config = self.config.data_transformation\n",
    "\n",
    "        create_directories([config.dir])\n",
    "\n",
    "        data_transformation_config = DataTransformationConfig(\n",
    "            dir=config.dir,\n",
    "            data_dir=config.data_dir\n",
    "        )\n",
    "\n",
    "        return data_transformation_config"
   ]
  },
  {
   "cell_type": "code",
   "execution_count": 100,
   "metadata": {},
   "outputs": [
    {
     "name": "stdout",
     "output_type": "stream",
     "text": [
      "[2024-02-04 16:22:50,828 - INFO - common - yaml file: config\\config.yaml loaded successfully]\n",
      "[2024-02-04 16:22:50,831 - INFO - common - yaml file: params.yaml loaded successfully]\n",
      "[2024-02-04 16:22:50,834 - INFO - common - yaml file: schema.yaml loaded successfully]\n",
      "[2024-02-04 16:22:50,835 - INFO - common - created directory at: artifacts]\n",
      "[2024-02-04 16:22:50,837 - INFO - common - created directory at: artifacts/data_transformation]\n"
     ]
    },
    {
     "data": {
      "text/plain": [
       "DataTransformationConfig(dir='artifacts/data_transformation', data_dir='artifacts/data_ingestion/video_games_sales.csv')"
      ]
     },
     "execution_count": 100,
     "metadata": {},
     "output_type": "execute_result"
    }
   ],
   "source": [
    "ConfigurationManager().get_data_transformation_config()"
   ]
  },
  {
   "cell_type": "code",
   "execution_count": null,
   "metadata": {},
   "outputs": [],
   "source": []
  }
 ],
 "metadata": {
  "kernelspec": {
   "display_name": "Python 3",
   "language": "python",
   "name": "python3"
  },
  "language_info": {
   "codemirror_mode": {
    "name": "ipython",
    "version": 3
   },
   "file_extension": ".py",
   "mimetype": "text/x-python",
   "name": "python",
   "nbconvert_exporter": "python",
   "pygments_lexer": "ipython3",
   "version": "3.11.0"
  }
 },
 "nbformat": 4,
 "nbformat_minor": 2
}
