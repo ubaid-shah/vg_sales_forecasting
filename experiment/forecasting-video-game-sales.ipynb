{
 "cells": [
  {
   "cell_type": "markdown",
   "metadata": {
    "_cell_guid": "1bab8613-f118-4d89-b4bf-3f2820794176",
    "_uuid": "cccab75cebf9e0644458062de6941ebb25702757"
   },
   "source": [
    "**Introduction**\n",
    "\n",
    "Quick foreword: This is my first notebook ever! I've been learning Python on-and-off for just over a year and Machine Learning on my own from books for about a year now. So any feedback is more than welcome, thanks!\n",
    "\n",
    "The purpose of this Kernel is to investigate whether or not an accurate Machine Learning model can be built to forecast video game sales in units based on the features given in this dataset. This hypothesis is investigated with numerous supervised ML models.\n",
    "\n",
    "Ultimately, a decision to forecast only aggregated global sales was made due to the inherently global nature of the video game industry. Several features were droppped in the process as well due to a huge potential influx of dummy variables post-feature engneering. \n",
    "\n",
    "Seven models were trained, out of which the lowest MSRE and best generalization is seen achieved by a Gradient Boosting Regressor model, which managed to outperform my first ever Deep Neural Network.\n",
    "\n",
    "As a whole, this sort of prediction model could be used as one input out of many in business teams working for large video game developers.\n",
    "\n",
    "A huge thanks to @Anisotropic, @Serigne and @juliencs! I learned a lot from your notebooks (see below) and I've directly copied some of your code. Please let me know if you have something against this!\n",
    "\n",
    "https://www.kaggle.com/arthurtok/the-console-wars-ps-vs-xbox-vs-wii\n",
    "\n",
    "https://www.kaggle.com/serigne/stacked-regressions-top-4-on-leaderboard\n",
    "\n",
    "https://www.kaggle.com/juliencs/a-study-on-regression-applied-to-the-ames-dataset"
   ]
  },
  {
   "cell_type": "markdown",
   "metadata": {
    "_cell_guid": "d51a30e9-49a7-4b77-8ea1-aa4762cba548",
    "_uuid": "f0a5b4f70663cbea46b2286cd286a3854260a850"
   },
   "source": [
    "**Getting Familiar With the Data**"
   ]
  },
  {
   "cell_type": "markdown",
   "metadata": {
    "_cell_guid": "d132ca19-43a4-413b-8ef4-0b66b84afd3a",
    "_uuid": "200988eb8c550e91eb95804bc9d5274c4fb12c8d"
   },
   "source": [
    "> Let's import relevant libraries"
   ]
  },
  {
   "cell_type": "code",
   "execution_count": 1,
   "metadata": {
    "_cell_guid": "21169e0d-9845-4e9f-84c6-9449e2887aea",
    "_kg_hide-input": true,
    "_kg_hide-output": false,
    "_uuid": "0ae4a4bf8b1261ddeeac36881aeead344b9f0fff",
    "collapsed": true
   },
   "outputs": [
    {
     "name": "stderr",
     "output_type": "stream",
     "text": [
      "C:\\Users\\ubaid\\AppData\\Local\\Temp\\ipykernel_21416\\1444958516.py:2: DeprecationWarning: \n",
      "Pyarrow will become a required dependency of pandas in the next major release of pandas (pandas 3.0),\n",
      "(to allow more performant data types, such as the Arrow string type, and better interoperability with other libraries)\n",
      "but was not found to be installed on your system.\n",
      "If this would cause problems for you,\n",
      "please provide us feedback at https://github.com/pandas-dev/pandas/issues/54466\n",
      "        \n",
      "  import pandas as pd\n"
     ]
    }
   ],
   "source": [
    "import numpy as np\n",
    "import pandas as pd\n",
    "import sklearn\n",
    "import seaborn as sn\n",
    "import matplotlib.pyplot as plt\n",
    "import seaborn as sns\n",
    "from scipy import stats\n",
    "from scipy.stats import norm, skew \n",
    "%matplotlib inline\n",
    "\n",
    "\n",
    "import warnings\n",
    "def ignore_warn(*args, **kwargs):\n",
    "    pass\n",
    "warnings.warn = ignore_warn #ignore annoying warning (from sklearn and seaborn)\n"
   ]
  },
  {
   "cell_type": "markdown",
   "metadata": {
    "_cell_guid": "4b94925f-4028-4ad5-b87d-ff969b8a3e0d",
    "_uuid": "3fe1ac68135454a1e181e0b48a93ac2233b5e3e8"
   },
   "source": [
    "> Let's get the data and preview the data"
   ]
  },
  {
   "cell_type": "code",
   "execution_count": 2,
   "metadata": {
    "_cell_guid": "2a36d917-5ec2-4d4c-8d1a-2a53b642b527",
    "_kg_hide-input": true,
    "_kg_hide-output": false,
    "_uuid": "d3e8afaa523ccc4b18ad408027cd845f65b43ce3",
    "collapsed": true
   },
   "outputs": [
    {
     "data": {
      "text/html": [
       "<div>\n",
       "<style scoped>\n",
       "    .dataframe tbody tr th:only-of-type {\n",
       "        vertical-align: middle;\n",
       "    }\n",
       "\n",
       "    .dataframe tbody tr th {\n",
       "        vertical-align: top;\n",
       "    }\n",
       "\n",
       "    .dataframe thead th {\n",
       "        text-align: right;\n",
       "    }\n",
       "</style>\n",
       "<table border=\"1\" class=\"dataframe\">\n",
       "  <thead>\n",
       "    <tr style=\"text-align: right;\">\n",
       "      <th></th>\n",
       "      <th>Name</th>\n",
       "      <th>Platform</th>\n",
       "      <th>Year_of_Release</th>\n",
       "      <th>Genre</th>\n",
       "      <th>Publisher</th>\n",
       "      <th>NA_Sales</th>\n",
       "      <th>EU_Sales</th>\n",
       "      <th>JP_Sales</th>\n",
       "      <th>Other_Sales</th>\n",
       "      <th>Global_Sales</th>\n",
       "      <th>Critic_Score</th>\n",
       "      <th>Critic_Count</th>\n",
       "      <th>User_Score</th>\n",
       "      <th>User_Count</th>\n",
       "      <th>Developer</th>\n",
       "      <th>Rating</th>\n",
       "    </tr>\n",
       "  </thead>\n",
       "  <tbody>\n",
       "    <tr>\n",
       "      <th>0</th>\n",
       "      <td>Wii Sports</td>\n",
       "      <td>Wii</td>\n",
       "      <td>2006.0</td>\n",
       "      <td>Sports</td>\n",
       "      <td>Nintendo</td>\n",
       "      <td>41.36</td>\n",
       "      <td>28.96</td>\n",
       "      <td>3.77</td>\n",
       "      <td>8.45</td>\n",
       "      <td>82.53</td>\n",
       "      <td>76.0</td>\n",
       "      <td>51.0</td>\n",
       "      <td>8</td>\n",
       "      <td>322.0</td>\n",
       "      <td>Nintendo</td>\n",
       "      <td>E</td>\n",
       "    </tr>\n",
       "    <tr>\n",
       "      <th>1</th>\n",
       "      <td>Super Mario Bros.</td>\n",
       "      <td>NES</td>\n",
       "      <td>1985.0</td>\n",
       "      <td>Platform</td>\n",
       "      <td>Nintendo</td>\n",
       "      <td>29.08</td>\n",
       "      <td>3.58</td>\n",
       "      <td>6.81</td>\n",
       "      <td>0.77</td>\n",
       "      <td>40.24</td>\n",
       "      <td>NaN</td>\n",
       "      <td>NaN</td>\n",
       "      <td>NaN</td>\n",
       "      <td>NaN</td>\n",
       "      <td>NaN</td>\n",
       "      <td>NaN</td>\n",
       "    </tr>\n",
       "    <tr>\n",
       "      <th>2</th>\n",
       "      <td>Mario Kart Wii</td>\n",
       "      <td>Wii</td>\n",
       "      <td>2008.0</td>\n",
       "      <td>Racing</td>\n",
       "      <td>Nintendo</td>\n",
       "      <td>15.68</td>\n",
       "      <td>12.76</td>\n",
       "      <td>3.79</td>\n",
       "      <td>3.29</td>\n",
       "      <td>35.52</td>\n",
       "      <td>82.0</td>\n",
       "      <td>73.0</td>\n",
       "      <td>8.3</td>\n",
       "      <td>709.0</td>\n",
       "      <td>Nintendo</td>\n",
       "      <td>E</td>\n",
       "    </tr>\n",
       "    <tr>\n",
       "      <th>3</th>\n",
       "      <td>Wii Sports Resort</td>\n",
       "      <td>Wii</td>\n",
       "      <td>2009.0</td>\n",
       "      <td>Sports</td>\n",
       "      <td>Nintendo</td>\n",
       "      <td>15.61</td>\n",
       "      <td>10.93</td>\n",
       "      <td>3.28</td>\n",
       "      <td>2.95</td>\n",
       "      <td>32.77</td>\n",
       "      <td>80.0</td>\n",
       "      <td>73.0</td>\n",
       "      <td>8</td>\n",
       "      <td>192.0</td>\n",
       "      <td>Nintendo</td>\n",
       "      <td>E</td>\n",
       "    </tr>\n",
       "    <tr>\n",
       "      <th>4</th>\n",
       "      <td>Pokemon Red/Pokemon Blue</td>\n",
       "      <td>GB</td>\n",
       "      <td>1996.0</td>\n",
       "      <td>Role-Playing</td>\n",
       "      <td>Nintendo</td>\n",
       "      <td>11.27</td>\n",
       "      <td>8.89</td>\n",
       "      <td>10.22</td>\n",
       "      <td>1.00</td>\n",
       "      <td>31.37</td>\n",
       "      <td>NaN</td>\n",
       "      <td>NaN</td>\n",
       "      <td>NaN</td>\n",
       "      <td>NaN</td>\n",
       "      <td>NaN</td>\n",
       "      <td>NaN</td>\n",
       "    </tr>\n",
       "  </tbody>\n",
       "</table>\n",
       "</div>"
      ],
      "text/plain": [
       "                       Name Platform  Year_of_Release         Genre Publisher  \\\n",
       "0                Wii Sports      Wii           2006.0        Sports  Nintendo   \n",
       "1         Super Mario Bros.      NES           1985.0      Platform  Nintendo   \n",
       "2            Mario Kart Wii      Wii           2008.0        Racing  Nintendo   \n",
       "3         Wii Sports Resort      Wii           2009.0        Sports  Nintendo   \n",
       "4  Pokemon Red/Pokemon Blue       GB           1996.0  Role-Playing  Nintendo   \n",
       "\n",
       "   NA_Sales  EU_Sales  JP_Sales  Other_Sales  Global_Sales  Critic_Score  \\\n",
       "0     41.36     28.96      3.77         8.45         82.53          76.0   \n",
       "1     29.08      3.58      6.81         0.77         40.24           NaN   \n",
       "2     15.68     12.76      3.79         3.29         35.52          82.0   \n",
       "3     15.61     10.93      3.28         2.95         32.77          80.0   \n",
       "4     11.27      8.89     10.22         1.00         31.37           NaN   \n",
       "\n",
       "   Critic_Count User_Score  User_Count Developer Rating  \n",
       "0          51.0          8       322.0  Nintendo      E  \n",
       "1           NaN        NaN         NaN       NaN    NaN  \n",
       "2          73.0        8.3       709.0  Nintendo      E  \n",
       "3          73.0          8       192.0  Nintendo      E  \n",
       "4           NaN        NaN         NaN       NaN    NaN  "
      ]
     },
     "execution_count": 2,
     "metadata": {},
     "output_type": "execute_result"
    }
   ],
   "source": [
    "data = pd.read_csv('../data/Video_Games_Sales_as_at_22_Dec_2016.csv')\n",
    "data.head()"
   ]
  },
  {
   "cell_type": "markdown",
   "metadata": {
    "_cell_guid": "f59bb739-e1f7-4064-b426-1df8f0a1c5e4",
    "_uuid": "ad08bc837d9f74baae4e28f2455493ad57747584"
   },
   "source": [
    "In previewing the head of the data we have 16 columns in total. Now we have to decide \n",
    "\n",
    "a) Which sales feature do we want to use as the dependent variable\n",
    "\n",
    "b) Which features do we want to use as the independent variables\n",
    "\n",
    "Important things to consider here include making a distinction with platforms. There are platforms from both the current console generation and the previous one as well as many others.. As the video game industry has grown rapidly there may be significant time variance if we want to look at all consoles from each generation.\n",
    "\n",
    "As the video game industry is global, let's have global sales as the dependent variable. This means later on we can drop all other sales features.\n",
    "\n",
    "Before we decide on independent variables, let's do some more exploration first.\n",
    "\n"
   ]
  },
  {
   "cell_type": "markdown",
   "metadata": {
    "_cell_guid": "d3d32f6d-ff7e-49fa-8f1b-6de41a8aa886",
    "_uuid": "2b64c721447f01ffe199de9f8510b012c0506ec6"
   },
   "source": [
    "> Let's look at the size of the dataset"
   ]
  },
  {
   "cell_type": "code",
   "execution_count": 3,
   "metadata": {
    "_cell_guid": "3c36128b-2f20-4f0a-9743-1c84f9b4e15d",
    "_uuid": "9b0e2dd206a791270b95b05c0baaae77b2b96275",
    "collapsed": true
   },
   "outputs": [
    {
     "name": "stdout",
     "output_type": "stream",
     "text": [
      "(16719, 16)\n"
     ]
    }
   ],
   "source": [
    "print(data.shape)"
   ]
  },
  {
   "cell_type": "markdown",
   "metadata": {
    "_cell_guid": "8a7ceccf-3cf4-4e2a-9543-d4702e7e53ed",
    "_uuid": "31507d7fd686316e403762a1ef76a00a9e4d8612"
   },
   "source": [
    "> Let's check for outliers between what I suspect to be, the most obvious pair of dependent and independent variables."
   ]
  },
  {
   "cell_type": "code",
   "execution_count": 4,
   "metadata": {
    "_cell_guid": "35f42790-bbe9-4906-ae82-bd591710df56",
    "_uuid": "3ac0bab7493ddcd75ee0080630bad11649de6284",
    "collapsed": true
   },
   "outputs": [
    {
     "data": {
      "image/png": "[encoded data removed]",
      "text/plain": [
       "<Figure size 640x480 with 1 Axes>"
      ]
     },
     "metadata": {},
     "output_type": "display_data"
    }
   ],
   "source": [
    "fig, ax = plt.subplots()\n",
    "ax.scatter(x = data['Critic_Score'], y = data['Global_Sales'])\n",
    "plt.ylabel('Global_Sales', fontsize=13)\n",
    "plt.xlabel('Critic_Score', fontsize=13)\n",
    "plt.show()"
   ]
  },
  {
   "cell_type": "markdown",
   "metadata": {
    "_cell_guid": "303c5632-7822-45af-8b43-549943b5d11c",
    "_uuid": "44c13579764413bdf82cc86045c314d84833539b"
   },
   "source": [
    "> There's really only one clear outlier in the dataset, so lets get rid of it"
   ]
  },
  {
   "cell_type": "code",
   "execution_count": 5,
   "metadata": {
    "_cell_guid": "239b46de-f881-4577-902b-fc39aefc7ed0",
    "_uuid": "80df14ecc4e59d86f3e7800d030b275c2acc70f9",
    "collapsed": true
   },
   "outputs": [],
   "source": [
    "data = data.drop(data[(data['Critic_Score']>60) & (data['Global_Sales']>60)].index)"
   ]
  },
  {
   "cell_type": "markdown",
   "metadata": {
    "_cell_guid": "ad547614-5914-4e5c-8e73-1dfe1c4f6584",
    "_uuid": "4cd301d02721d27491627550c44cd31ded59067f"
   },
   "source": [
    "> Let's check the plot again to confirm we are rid of the outlier"
   ]
  },
  {
   "cell_type": "code",
   "execution_count": 6,
   "metadata": {
    "_cell_guid": "41da3b4a-44f9-4a14-87f9-e0c13395a789",
    "_uuid": "63cf7879aef457fc79eb195e51c44d5900746a62",
    "collapsed": true
   },
   "outputs": [
    {
     "data": {
      "image/png": "[encoded data removed]",
      "text/plain": [
       "<Figure size 640x480 with 1 Axes>"
      ]
     },
     "metadata": {},
     "output_type": "display_data"
    }
   ],
   "source": [
    "fig, ax = plt.subplots()\n",
    "ax.scatter(x = data['Critic_Score'], y = data['Global_Sales'])\n",
    "plt.ylabel('Global_Sales', fontsize=13)\n",
    "plt.xlabel('Critic_Score', fontsize=13)\n",
    "plt.show()"
   ]
  },
  {
   "cell_type": "markdown",
   "metadata": {
    "_cell_guid": "1ad9cf51-8d5a-4b67-9cf5-8afa819061ae",
    "_uuid": "8b561d476315d6226a6a276439cc747ab39cb0df"
   },
   "source": [
    "Here we get to the question of \"what constitutes an outlier?\". If we look at the plot post-outlier removal, it still looks as if though there are outliers in the data. However, removing too many data points that are seemingly outliers may cross over to data tampering, which we don't want to get into. So for now, lets keep the data as it is."
   ]
  },
  {
   "cell_type": "markdown",
   "metadata": {
    "_cell_guid": "552346d6-29fd-4e08-b6b3-fd45f296b3c7",
    "_uuid": "886ac29d9a64947ccf931e2340b72d300ffe9f44"
   },
   "source": [
    "**The Target Variable**\n",
    "\n",
    "Our dependent variable is Global_Sales, so lets explore it some more.\n",
    "\n",
    "> Let's look at its distribution"
   ]
  },
  {
   "cell_type": "code",
   "execution_count": 7,
   "metadata": {
    "_cell_guid": "5c49ae0f-047e-41a8-b95a-3364c32fa451",
    "_uuid": "30f60f2c563c1f52df7f323dcb8bfdc3f3f9e455",
    "collapsed": true
   },
   "outputs": [
    {
     "name": "stdout",
     "output_type": "stream",
     "text": [
      "\n",
      " mu = 0.53 and sigma = 1.41\n",
      "\n"
     ]
    },
    {
     "data": {
      "image/png": "[encoded data removed]",
      "text/plain": [
       "<Figure size 640x480 with 1 Axes>"
      ]
     },
     "metadata": {},
     "output_type": "display_data"
    },
    {
     "data": {
      "image/png": "[encoded data removed]",
      "text/plain": [
       "<Figure size 640x480 with 1 Axes>"
      ]
     },
     "metadata": {},
     "output_type": "display_data"
    }
   ],
   "source": [
    "sns.distplot(data['Global_Sales'] , fit=norm);\n",
    "\n",
    "# Get the fitted parameters used by the function\n",
    "(mu, sigma) = norm.fit(data['Global_Sales'])\n",
    "print( '\\n mu = {:.2f} and sigma = {:.2f}\\n'.format(mu, sigma))\n",
    "\n",
    "#Now plot the distribution\n",
    "plt.legend(['Normal dist. ($\\mu=$ {:.2f} and $\\sigma=$ {:.2f} )'.format(mu, sigma)],\n",
    "            loc='best')\n",
    "plt.ylabel('Frequency')\n",
    "plt.title('Global_Sales distribution')\n",
    "\n",
    "#Get also the QQ-plot\n",
    "fig = plt.figure()\n",
    "res = stats.probplot(data['Global_Sales'], plot=plt)\n",
    "plt.show()"
   ]
  },
  {
   "cell_type": "markdown",
   "metadata": {
    "_cell_guid": "3a6194c4-9dd0-4ad4-80ce-8bb4d43acf0b",
    "_uuid": "8b824060a5a2bb1bf3dc671e8d4ac97e7047dd53"
   },
   "source": [
    "As we can see, Global_Sales is nowhere normally distributed, which may be problematic for us down the line. However, as we have yet to further investigate the data, let's not do any transformations just yet. We'll look at doing a log-transformation down the line.\n",
    "\n",
    "Before we move on to splitting the data into training and test sets, lets look at some feature correlations, to ensure that our independent variables don't suffer from autocorrelation, which may be problematic in some linear models such as liner regression if we want to look at feature importance through the intercepts. Let's do this by plotting a correlation heatmap with Seaborn."
   ]
  },
  {
   "cell_type": "code",
   "execution_count": 8,
   "metadata": {
    "_cell_guid": "68d65f5c-7410-4894-af89-df0e9c9f676c",
    "_uuid": "b0b6f8744145eddd39a0ae8e9a3e85776500df73",
    "collapsed": true
   },
   "outputs": [
    {
     "data": {
      "text/plain": [
       "<matplotlib.axes._subplots.AxesSubplot at 0x7f931c049e80>"
      ]
     },
     "execution_count": 8,
     "metadata": {},
     "output_type": "execute_result"
    },
    {
     "data": {
      "image/png": "[encoded data removed]",
      "text/plain": [
       "<matplotlib.figure.Figure at 0x7f931c0c1be0>"
      ]
     },
     "metadata": {},
     "output_type": "display_data"
    }
   ],
   "source": [
    "str_list = [] # empty list to contain columns with strings (words)\n",
    "for colname, colvalue in data.iteritems():\n",
    "    if type(colvalue[2]) == str:\n",
    "         str_list.append(colname)\n",
    "# Get to the numeric columns by inversion            \n",
    "num_list = data.columns.difference(str_list) \n",
    "# Create Dataframe containing only numerical features\n",
    "data_num = data[num_list]\n",
    "f, ax = plt.subplots(figsize=(14, 11))\n",
    "plt.title('Pearson Correlation of Video Game Numerical Features')\n",
    "# Draw the heatmap using seaborn\n",
    "sns.heatmap(data_num.astype(float).corr(),linewidths=0.25,vmax=1.0, \n",
    "            square=True, cmap=\"cubehelix_r\", linecolor='k', annot=True)"
   ]
  },
  {
   "cell_type": "markdown",
   "metadata": {
    "_cell_guid": "49504d11-6fc9-4dcc-8e2c-41087bdc719c",
    "_uuid": "ba91dbd450579c8fd22607758a75a13b66fc7958"
   },
   "source": [
    "In terms of autocorrelation the prospective independent variables aren't too highly correlated with each other in the correlation heat map. Only sales numbers are highly correlated with each other. Therefore we can look at intercepts of regression models without too much worries if we wish to do so later on. Higher correlations between sales figures may speak to the global nature of the video game industry: a success in one continent usually means a success in another continent as well. This lends greater confidence to using just Global_Sales as the dependent variable."
   ]
  },
  {
   "cell_type": "markdown",
   "metadata": {
    "_cell_guid": "bd0b9bc1-6aaf-4dd5-bb81-3dfd84d440eb",
    "_uuid": "655521dfc57a3bcfa97a2bed213de5e6a8d1d2e6"
   },
   "source": [
    "**Feature Engineering**"
   ]
  },
  {
   "cell_type": "markdown",
   "metadata": {
    "_cell_guid": "d79bfbc4-0d22-4559-90df-8155c5434bc8",
    "_uuid": "b5d32f0de467d92d1797112c39dbc84bc96de7d0"
   },
   "source": [
    "Let's look at what independent variables we will keep and whether there are N/A values etc.\n",
    "\n",
    "> Let's look at what features have N/A values"
   ]
  },
  {
   "cell_type": "code",
   "execution_count": 9,
   "metadata": {
    "_cell_guid": "6b74c04a-a7bd-4180-a62f-4b6173e6ad95",
    "_uuid": "01529d7df3994e1eb25f355b080336c2c42166dc",
    "collapsed": true
   },
   "outputs": [
    {
     "data": {
      "text/html": [
       "<div>\n",
       "<style>\n",
       "    .dataframe thead tr:only-child th {\n",
       "        text-align: right;\n",
       "    }\n",
       "\n",
       "    .dataframe thead th {\n",
       "        text-align: left;\n",
       "    }\n",
       "\n",
       "    .dataframe tbody tr th {\n",
       "        vertical-align: top;\n",
       "    }\n",
       "</style>\n",
       "<table border=\"1\" class=\"dataframe\">\n",
       "  <thead>\n",
       "    <tr style=\"text-align: right;\">\n",
       "      <th></th>\n",
       "      <th>Missing Ratio</th>\n",
       "    </tr>\n",
       "  </thead>\n",
       "  <tbody>\n",
       "    <tr>\n",
       "      <th>User_Count</th>\n",
       "      <td>54.605814</td>\n",
       "    </tr>\n",
       "    <tr>\n",
       "      <th>Critic_Count</th>\n",
       "      <td>51.333892</td>\n",
       "    </tr>\n",
       "    <tr>\n",
       "      <th>Critic_Score</th>\n",
       "      <td>51.333892</td>\n",
       "    </tr>\n",
       "    <tr>\n",
       "      <th>Rating</th>\n",
       "      <td>40.489293</td>\n",
       "    </tr>\n",
       "    <tr>\n",
       "      <th>User_Score</th>\n",
       "      <td>40.100490</td>\n",
       "    </tr>\n",
       "    <tr>\n",
       "      <th>Developer</th>\n",
       "      <td>39.615983</td>\n",
       "    </tr>\n",
       "    <tr>\n",
       "      <th>Year_of_Release</th>\n",
       "      <td>1.609044</td>\n",
       "    </tr>\n",
       "    <tr>\n",
       "      <th>Publisher</th>\n",
       "      <td>0.323005</td>\n",
       "    </tr>\n",
       "    <tr>\n",
       "      <th>Genre</th>\n",
       "      <td>0.011963</td>\n",
       "    </tr>\n",
       "    <tr>\n",
       "      <th>Name</th>\n",
       "      <td>0.011963</td>\n",
       "    </tr>\n",
       "  </tbody>\n",
       "</table>\n",
       "</div>"
      ],
      "text/plain": [
       "                 Missing Ratio\n",
       "User_Count           54.605814\n",
       "Critic_Count         51.333892\n",
       "Critic_Score         51.333892\n",
       "Rating               40.489293\n",
       "User_Score           40.100490\n",
       "Developer            39.615983\n",
       "Year_of_Release       1.609044\n",
       "Publisher             0.323005\n",
       "Genre                 0.011963\n",
       "Name                  0.011963"
      ]
     },
     "execution_count": 9,
     "metadata": {},
     "output_type": "execute_result"
    }
   ],
   "source": [
    "data_na = (data.isnull().sum() / len(data)) * 100\n",
    "data_na = data_na.drop(data_na[data_na == 0].index).sort_values(ascending=False)[:30]\n",
    "missing_data = pd.DataFrame({'Missing Ratio' :data_na})\n",
    "missing_data.head(16)"
   ]
  },
  {
   "cell_type": "markdown",
   "metadata": {
    "_cell_guid": "92b8ab71-400d-404d-86d2-e6dbcec9e277",
    "_uuid": "3ba2247e2cb18cde44f48ddea92cfa49912d0865"
   },
   "source": [
    "Here we have an issue. Critic_Score which may very well be the most important  independent variable, has almost 50 % of its values as N/A. Similarly roughly 40 % of data points are missing for User_Score which is highly likely one of the most important independent variables. This ratio of missing data is so large, that it cannot feasibly be filled with median values for instance.\n",
    "\n",
    "Lets try a workaround. As previously mentioned, it may be more relevant to look at only current or previous generation consoles. So let's find out what all the consoles in the dataset are. Then lets choose a subset of those and this will likely automatically reduce the missing ratio of the independent variables as lesser known consoles and console games might not have Metacritic scores. Two birds with one stone."
   ]
  },
  {
   "cell_type": "code",
   "execution_count": 10,
   "metadata": {
    "_cell_guid": "e48e2003-d87b-417a-b486-ff62c41de799",
    "_uuid": "d5d6ed7a55e9d56ec3e467c0525f72bf8338a8d9",
    "collapsed": true
   },
   "outputs": [
    {
     "name": "stdout",
     "output_type": "stream",
     "text": [
      "PS2     2161\n",
      "DS      2152\n",
      "PS3     1331\n",
      "Wii     1319\n",
      "X360    1262\n",
      "PSP     1209\n",
      "PS      1197\n",
      "PC       974\n",
      "XB       824\n",
      "GBA      822\n",
      "GC       556\n",
      "3DS      520\n",
      "PSV      432\n",
      "PS4      393\n",
      "N64      319\n",
      "XOne     247\n",
      "SNES     239\n",
      "SAT      173\n",
      "WiiU     147\n",
      "2600     133\n",
      "GB        98\n",
      "NES       98\n",
      "DC        52\n",
      "GEN       29\n",
      "NG        12\n",
      "WS         6\n",
      "SCD        6\n",
      "3DO        3\n",
      "TG16       2\n",
      "PCFX       1\n",
      "GG         1\n",
      "Name: Platform, dtype: int64\n"
     ]
    }
   ],
   "source": [
    "print(pd.value_counts(data[\"Platform\"]))"
   ]
  },
  {
   "cell_type": "markdown",
   "metadata": {
    "_cell_guid": "d86c8b46-a878-455c-aeee-1768f05d43f5",
    "_uuid": "a88dcd58dff57139c21a0686c2991354c786466b"
   },
   "source": [
    "As we can see, there are actually a lot of different platforms in the dataset. As previously mentioned, it might be most relevant to look at only current gen consoles in our model, however the issue here is that we will have a limited amount of data. Therefore, let's widen our scope somewhat and look at the following platforms: PS3, PS4, X360, XOne, PC, Wii and WiiU. This ensures that we won't have too little data. Let's keep only relevant platforms."
   ]
  },
  {
   "cell_type": "code",
   "execution_count": 11,
   "metadata": {
    "_cell_guid": "03555e81-f935-454e-aa44-97c5645f4f79",
    "_uuid": "58f6fb947bad2564db45bc830fb3f34af7f1eb5a",
    "collapsed": true
   },
   "outputs": [
    {
     "name": "stdout",
     "output_type": "stream",
     "text": [
      "PS3     1331\n",
      "Wii     1319\n",
      "X360    1262\n",
      "PC       974\n",
      "PS4      393\n",
      "XOne     247\n",
      "WiiU     147\n",
      "Name: Platform, dtype: int64\n",
      "(5673, 16)\n"
     ]
    },
    {
     "data": {
      "text/html": [
       "<div>\n",
       "<style>\n",
       "    .dataframe thead tr:only-child th {\n",
       "        text-align: right;\n",
       "    }\n",
       "\n",
       "    .dataframe thead th {\n",
       "        text-align: left;\n",
       "    }\n",
       "\n",
       "    .dataframe tbody tr th {\n",
       "        vertical-align: top;\n",
       "    }\n",
       "</style>\n",
       "<table border=\"1\" class=\"dataframe\">\n",
       "  <thead>\n",
       "    <tr style=\"text-align: right;\">\n",
       "      <th></th>\n",
       "      <th>Missing Ratio</th>\n",
       "    </tr>\n",
       "  </thead>\n",
       "  <tbody>\n",
       "    <tr>\n",
       "      <th>Critic_Count</th>\n",
       "      <td>37.493390</td>\n",
       "    </tr>\n",
       "    <tr>\n",
       "      <th>Critic_Score</th>\n",
       "      <td>37.493390</td>\n",
       "    </tr>\n",
       "    <tr>\n",
       "      <th>User_Count</th>\n",
       "      <td>34.584876</td>\n",
       "    </tr>\n",
       "    <tr>\n",
       "      <th>Rating</th>\n",
       "      <td>23.761678</td>\n",
       "    </tr>\n",
       "    <tr>\n",
       "      <th>User_Score</th>\n",
       "      <td>22.563018</td>\n",
       "    </tr>\n",
       "    <tr>\n",
       "      <th>Developer</th>\n",
       "      <td>21.716905</td>\n",
       "    </tr>\n",
       "    <tr>\n",
       "      <th>Year_of_Release</th>\n",
       "      <td>1.868500</td>\n",
       "    </tr>\n",
       "    <tr>\n",
       "      <th>Publisher</th>\n",
       "      <td>0.229156</td>\n",
       "    </tr>\n",
       "  </tbody>\n",
       "</table>\n",
       "</div>"
      ],
      "text/plain": [
       "                 Missing Ratio\n",
       "Critic_Count         37.493390\n",
       "Critic_Score         37.493390\n",
       "User_Count           34.584876\n",
       "Rating               23.761678\n",
       "User_Score           22.563018\n",
       "Developer            21.716905\n",
       "Year_of_Release       1.868500\n",
       "Publisher             0.229156"
      ]
     },
     "execution_count": 11,
     "metadata": {},
     "output_type": "execute_result"
    }
   ],
   "source": [
    "data = data[(data['Platform'] == 'PS3') | (data['Platform'] == 'PS4') | (data['Platform'] == 'X360') | (data['Platform'] == 'XOne') | (data['Platform'] == 'Wii') | (data['Platform'] == 'WiiU') | (data['Platform'] == 'PC')]\n",
    "\n",
    "#Let's double check the value counts to be sure\n",
    "print(pd.value_counts(data[\"Platform\"]))\n",
    "\n",
    "#Let's see the shape of the data again\n",
    "print(data.shape)\n",
    "\n",
    "#Lets see the missing ratios again\n",
    "data_na = (data.isnull().sum() / len(data)) * 100\n",
    "data_na = data_na.drop(data_na[data_na == 0].index).sort_values(ascending=False)[:30]\n",
    "missing_data = pd.DataFrame({'Missing Ratio' :data_na})\n",
    "missing_data.head(16)"
   ]
  },
  {
   "cell_type": "markdown",
   "metadata": {
    "_cell_guid": "c66f15d5-71bd-4012-84cf-58dc82a9f498",
    "_uuid": "64f06d5d5077d4f713f467d2dba9230d40d8afd0"
   },
   "source": [
    "So we still have almost 40 % of data points missing the critic score. This is still way too big, so let's drop all rows, that have N/A for Critic_Score. We cannot replace 40 % of the data with say, the median values. We must therefore eliminate N/A observations themselves."
   ]
  },
  {
   "cell_type": "code",
   "execution_count": 12,
   "metadata": {
    "_cell_guid": "0798b8c6-9a28-4ce6-8b42-370d4bef3d9a",
    "_uuid": "83d08f70f4e7cfa7a911d83349fa198ff5a62b7d",
    "collapsed": true
   },
   "outputs": [
    {
     "name": "stdout",
     "output_type": "stream",
     "text": [
      "(3546, 16)\n"
     ]
    },
    {
     "data": {
      "text/html": [
       "<div>\n",
       "<style>\n",
       "    .dataframe thead tr:only-child th {\n",
       "        text-align: right;\n",
       "    }\n",
       "\n",
       "    .dataframe thead th {\n",
       "        text-align: left;\n",
       "    }\n",
       "\n",
       "    .dataframe tbody tr th {\n",
       "        vertical-align: top;\n",
       "    }\n",
       "</style>\n",
       "<table border=\"1\" class=\"dataframe\">\n",
       "  <thead>\n",
       "    <tr style=\"text-align: right;\">\n",
       "      <th></th>\n",
       "      <th>Missing Ratio</th>\n",
       "    </tr>\n",
       "  </thead>\n",
       "  <tbody>\n",
       "    <tr>\n",
       "      <th>User_Count</th>\n",
       "      <td>5.019741</td>\n",
       "    </tr>\n",
       "    <tr>\n",
       "      <th>Rating</th>\n",
       "      <td>2.002256</td>\n",
       "    </tr>\n",
       "    <tr>\n",
       "      <th>Year_of_Release</th>\n",
       "      <td>2.002256</td>\n",
       "    </tr>\n",
       "    <tr>\n",
       "      <th>User_Score</th>\n",
       "      <td>0.564016</td>\n",
       "    </tr>\n",
       "    <tr>\n",
       "      <th>Developer</th>\n",
       "      <td>0.084602</td>\n",
       "    </tr>\n",
       "    <tr>\n",
       "      <th>Publisher</th>\n",
       "      <td>0.084602</td>\n",
       "    </tr>\n",
       "  </tbody>\n",
       "</table>\n",
       "</div>"
      ],
      "text/plain": [
       "                 Missing Ratio\n",
       "User_Count            5.019741\n",
       "Rating                2.002256\n",
       "Year_of_Release       2.002256\n",
       "User_Score            0.564016\n",
       "Developer             0.084602\n",
       "Publisher             0.084602"
      ]
     },
     "execution_count": 12,
     "metadata": {},
     "output_type": "execute_result"
    }
   ],
   "source": [
    "data = data.dropna(subset=['Critic_Score'])\n",
    "\n",
    "#Let's see the shape of the data again\n",
    "print(data.shape)\n",
    "\n",
    "#Lets see the missing ratios again\n",
    "data_na = (data.isnull().sum() / len(data)) * 100\n",
    "data_na = data_na.drop(data_na[data_na == 0].index).sort_values(ascending=False)[:30]\n",
    "missing_data = pd.DataFrame({'Missing Ratio' :data_na})\n",
    "missing_data.head(16)"
   ]
  },
  {
   "cell_type": "markdown",
   "metadata": {
    "_cell_guid": "34546a30-874d-49b2-9009-27465b296c09",
    "_uuid": "df8a6cefe6ba59e839953895528cd020a3ac689b"
   },
   "source": [
    "This looks better already. We've reached the point where we've dealt with N/A values for the most important variable and we still have enough data to work with. We still have to handle N/A values for the rest of the variables however, but this isn't as glaring of an issue as the missing ratios are relatively small, the highest being roughly 5 % for User_Count.\n",
    "\n",
    "Let's deal with the rest of the N/A values next."
   ]
  },
  {
   "cell_type": "markdown",
   "metadata": {
    "_cell_guid": "b4a16501-6602-4cf5-93b2-a09e106a3635",
    "_uuid": "9588d4712bf0b78ae6f7e1c7ab0613356dd81bca"
   },
   "source": [
    "* For Publisher let's fill N/A's with the mode"
   ]
  },
  {
   "cell_type": "code",
   "execution_count": 13,
   "metadata": {
    "_cell_guid": "54bf3444-8a70-4da0-b913-aa6bd7a85f47",
    "_uuid": "ab88ed3150bf56bb6d7a031859d1e9e2bf222e38",
    "collapsed": true
   },
   "outputs": [],
   "source": [
    "data['Publisher'] = data['Publisher'].fillna(data['Publisher'].mode()[0])"
   ]
  },
  {
   "cell_type": "markdown",
   "metadata": {
    "_cell_guid": "a8fea40a-ddaa-4796-9e1a-abd91a26890e",
    "_uuid": "9f226f516531a8af14cf88694334d48028a0037a"
   },
   "source": [
    "* For Developer let's fill N/A's with the mode"
   ]
  },
  {
   "cell_type": "code",
   "execution_count": 14,
   "metadata": {
    "_cell_guid": "9278afa3-14a7-45a5-a6dc-85a64e851201",
    "_uuid": "5a5397eff581ec9f6a99a1e05b17663f20904e02",
    "collapsed": true
   },
   "outputs": [],
   "source": [
    "data['Developer'] = data['Developer'].fillna(data['Developer'].mode()[0])"
   ]
  },
  {
   "cell_type": "markdown",
   "metadata": {
    "_cell_guid": "425cb447-fc93-42c6-a5a7-a7750d73ba10",
    "_uuid": "f7cfc78b8766399b690401d0e8761a6bc7079e71"
   },
   "source": [
    "* For Rating let's fill N/A's with the mode"
   ]
  },
  {
   "cell_type": "code",
   "execution_count": 15,
   "metadata": {
    "_cell_guid": "10d1bd32-142a-454b-bfdc-223258424717",
    "_uuid": "401bb1796d866babf3481829320267264c298908",
    "collapsed": true
   },
   "outputs": [],
   "source": [
    "data['Rating'] = data['Rating'].fillna(data['Rating'].mode()[0])"
   ]
  },
  {
   "cell_type": "markdown",
   "metadata": {
    "_cell_guid": "8211e1a1-490d-4805-89bf-f845ebb19874",
    "_uuid": "138b8a5a5294d3481397a35c9edb19e6e5b64b80"
   },
   "source": [
    "* For Year_of_Release let's fill with the median value"
   ]
  },
  {
   "cell_type": "code",
   "execution_count": 16,
   "metadata": {
    "_cell_guid": "3add8a81-da8a-4f48-af18-f68ebbabaf67",
    "_uuid": "183024d72e1c2181d0cda5a239b47ea6e29c7333",
    "collapsed": true
   },
   "outputs": [],
   "source": [
    "data['Year_of_Release'] = data['Year_of_Release'].fillna(data['Year_of_Release'].median())"
   ]
  },
  {
   "cell_type": "markdown",
   "metadata": {
    "_cell_guid": "03c44d85-08d7-45ea-b476-e9ecab8d15b6",
    "_uuid": "5574957a656efd79c860c1235f4e9b57a23c046b"
   },
   "source": [
    "* For User_Score let's fill with the median value"
   ]
  },
  {
   "cell_type": "code",
   "execution_count": 17,
   "metadata": {
    "_cell_guid": "884dbb63-d8ab-4fbd-9b0f-c9fc032b9224",
    "_uuid": "8768a60fc6cb8d329a879e8489fe72fbf677283a",
    "collapsed": true
   },
   "outputs": [],
   "source": [
    "#There's \"tbd\" values in the mix here which we need to handle first\n",
    "data['User_Score'] = data['User_Score'].replace('tbd', None)\n",
    "\n",
    "#Now we can handle the N/A's appropriately\n",
    "data['User_Score'] = data['User_Score'].fillna(data['User_Score'].median())"
   ]
  },
  {
   "cell_type": "markdown",
   "metadata": {
    "_cell_guid": "0a0925ac-6398-4420-8184-c57b7c50f4f6",
    "_uuid": "bff5649db4dbfbee30ae7ba888cb03a525dd148d"
   },
   "source": [
    "* For User_Count let's fill with the median value"
   ]
  },
  {
   "cell_type": "code",
   "execution_count": 18,
   "metadata": {
    "_cell_guid": "b62a4ccd-8463-4ba1-a0dc-402d6196ab90",
    "_uuid": "4ffb99d6fe412c4657f1d50196edecadee5f7347",
    "collapsed": true
   },
   "outputs": [],
   "source": [
    "data['User_Count'] = data['User_Count'].fillna(data['User_Count'].median())"
   ]
  },
  {
   "cell_type": "markdown",
   "metadata": {
    "_cell_guid": "5fddf7e9-cc17-4352-9350-c1497cbaff89",
    "_uuid": "4a6f3f9b9935bc7eb5b02dab313048ccd8f7a7ad"
   },
   "source": [
    "* Now let's verify that we don't have any more missing values"
   ]
  },
  {
   "cell_type": "code",
   "execution_count": 19,
   "metadata": {
    "_cell_guid": "bb59b341-3434-463f-ae43-97ca474039b7",
    "_uuid": "e7ff79819d067428b9e0595e57fde66ad46a96ec",
    "collapsed": true
   },
   "outputs": [
    {
     "data": {
      "text/html": [
       "<div>\n",
       "<style>\n",
       "    .dataframe thead tr:only-child th {\n",
       "        text-align: right;\n",
       "    }\n",
       "\n",
       "    .dataframe thead th {\n",
       "        text-align: left;\n",
       "    }\n",
       "\n",
       "    .dataframe tbody tr th {\n",
       "        vertical-align: top;\n",
       "    }\n",
       "</style>\n",
       "<table border=\"1\" class=\"dataframe\">\n",
       "  <thead>\n",
       "    <tr style=\"text-align: right;\">\n",
       "      <th></th>\n",
       "      <th>Missing Ratio</th>\n",
       "    </tr>\n",
       "  </thead>\n",
       "  <tbody>\n",
       "  </tbody>\n",
       "</table>\n",
       "</div>"
      ],
      "text/plain": [
       "Empty DataFrame\n",
       "Columns: [Missing Ratio]\n",
       "Index: []"
      ]
     },
     "execution_count": 19,
     "metadata": {},
     "output_type": "execute_result"
    }
   ],
   "source": [
    "#Lets see the missing ratios again\n",
    "data_na = (data.isnull().sum() / len(data)) * 100\n",
    "data_na = data_na.drop(data_na[data_na == 0].index).sort_values(ascending=False)[:30]\n",
    "missing_data = pd.DataFrame({'Missing Ratio' :data_na})\n",
    "missing_data.head(16)"
   ]
  },
  {
   "cell_type": "markdown",
   "metadata": {
    "_cell_guid": "db095564-485d-4f25-8ee2-8cc47f22621c",
    "_uuid": "352192035bc29d85ee3da65760e042fdbb969c7d"
   },
   "source": [
    "Hurray! We've dealt with all the missing values finally. Now let's deal with categorical values next. We need to change the following independent variables to dummy variables:\n",
    "\n",
    "* Platform\n",
    "* Genre\n",
    "* Publisher\n",
    "* Developer\n",
    "* Rating\n",
    "\n",
    "However, here we have an issue. Publisher and Developer will cause a massive influx of features as there are so many unique values in the mix. At this point it seems best to drop these features entirely.\n",
    "\n",
    "Instead, let's only create dummies for:\n",
    "\n",
    "* Platform\n",
    "* Genre\n",
    "* Rating"
   ]
  },
  {
   "cell_type": "code",
   "execution_count": 20,
   "metadata": {
    "_cell_guid": "40462ac3-b964-4618-959f-1cb61f706a7d",
    "_uuid": "2c797d08abbdf39dd062d8210e1207d112797107",
    "collapsed": true
   },
   "outputs": [
    {
     "name": "stdout",
     "output_type": "stream",
     "text": [
      "(3546, 16)\n",
      "(3546, 37)\n"
     ]
    },
    {
     "data": {
      "text/plain": [
       "<bound method NDFrame.head of                                             Name  Year_of_Release  \\\n",
       "2                                 Mario Kart Wii           2008.0   \n",
       "3                              Wii Sports Resort           2009.0   \n",
       "7                                       Wii Play           2006.0   \n",
       "8                      New Super Mario Bros. Wii           2009.0   \n",
       "13                                       Wii Fit           2007.0   \n",
       "14                            Kinect Adventures!           2010.0   \n",
       "15                                  Wii Fit Plus           2009.0   \n",
       "16                            Grand Theft Auto V           2013.0   \n",
       "23                            Grand Theft Auto V           2013.0   \n",
       "29                Call of Duty: Modern Warfare 3           2011.0   \n",
       "32                       Call of Duty: Black Ops           2010.0   \n",
       "34                    Call of Duty: Black Ops II           2012.0   \n",
       "35                    Call of Duty: Black Ops II           2012.0   \n",
       "36                Call of Duty: Modern Warfare 2           2009.0   \n",
       "37                Call of Duty: Modern Warfare 3           2011.0   \n",
       "39                       Super Smash Bros. Brawl           2008.0   \n",
       "41                       Call of Duty: Black Ops           2010.0   \n",
       "42                            Grand Theft Auto V           2014.0   \n",
       "44                                        Halo 3           2007.0   \n",
       "49                            Super Mario Galaxy           2007.0   \n",
       "51                           Grand Theft Auto IV           2008.0   \n",
       "54                                Gran Turismo 5           2010.0   \n",
       "55                Call of Duty: Modern Warfare 2           2009.0   \n",
       "57                           Grand Theft Auto IV           2008.0   \n",
       "60                          Call of Duty: Ghosts           2013.0   \n",
       "61                                  Just Dance 3           2011.0   \n",
       "64                                   Halo: Reach           2010.0   \n",
       "66                                        Halo 4           2012.0   \n",
       "68                                  Just Dance 2           2010.0   \n",
       "69                          Call of Duty: Ghosts           2013.0   \n",
       "...                                          ...              ...   \n",
       "16490                         Super Dungeon Bros           2016.0   \n",
       "16503      Sherlock Holmes: The Devil's Daughter           2016.0   \n",
       "16504                                Root Letter           2016.0   \n",
       "16513                                     Ride 2           2016.0   \n",
       "16514                   Art Academy: Home Studio           2015.0   \n",
       "16516                       Colin McRae Rally 04           2004.0   \n",
       "16527                            Icewind Dale II           2002.0   \n",
       "16530                                 Dungeons 2           2016.0   \n",
       "16532                  Pro Evolution Soccer 2010           2009.0   \n",
       "16534                    Carmageddon: Max Damage           2016.0   \n",
       "16536                          Alone in the Dark           2008.0   \n",
       "16541                     Clive Barker's Jericho           2007.0   \n",
       "16549                Madagascar: Escape 2 Africa           2008.0   \n",
       "16553                            Sega Rally Revo           2007.0   \n",
       "16554                       Superstars V8 Racing           2009.0   \n",
       "16555  Winning Eleven: Pro Evolution Soccer 2007           2006.0   \n",
       "16576            King's Bounty: Armored Princess           2009.0   \n",
       "16588            Transformers: Fall of Cybertron           2012.0   \n",
       "16601                Saints Row: Gat out of Hell           2015.0   \n",
       "16617                   Dragon Ball Z for Kinect           2012.0   \n",
       "16618                   Legacy of Kain: Defiance           2003.0   \n",
       "16624                                      Trine           2009.0   \n",
       "16634                   Sébastien Loeb Rally Evo           2016.0   \n",
       "16644                            Hospital Tycoon           2007.0   \n",
       "16656                           Fast Racing Neo            2016.0   \n",
       "16664                           Prison Architect           2016.0   \n",
       "16696          Metal Gear Solid V: Ground Zeroes           2014.0   \n",
       "16700                                     Breach           2011.0   \n",
       "16706                    STORM: Frontline Nation           2011.0   \n",
       "16709                                    15 Days           2009.0   \n",
       "\n",
       "                          Publisher  NA_Sales  EU_Sales  JP_Sales  \\\n",
       "2                          Nintendo     15.68     12.76      3.79   \n",
       "3                          Nintendo     15.61     10.93      3.28   \n",
       "7                          Nintendo     13.96      9.18      2.93   \n",
       "8                          Nintendo     14.44      6.94      4.70   \n",
       "13                         Nintendo      8.92      8.03      3.60   \n",
       "14           Microsoft Game Studios     15.00      4.89      0.24   \n",
       "15                         Nintendo      9.01      8.49      2.53   \n",
       "16             Take-Two Interactive      7.02      9.09      0.98   \n",
       "23             Take-Two Interactive      9.66      5.14      0.06   \n",
       "29                       Activision      9.04      4.24      0.13   \n",
       "32                       Activision      9.70      3.68      0.11   \n",
       "34                       Activision      4.99      5.73      0.65   \n",
       "35                       Activision      8.25      4.24      0.07   \n",
       "36                       Activision      8.52      3.59      0.08   \n",
       "37                       Activision      5.54      5.73      0.49   \n",
       "39                         Nintendo      6.62      2.55      2.66   \n",
       "41                       Activision      5.99      4.37      0.48   \n",
       "42             Take-Two Interactive      3.96      6.31      0.38   \n",
       "44           Microsoft Game Studios      7.97      2.81      0.13   \n",
       "49                         Nintendo      6.06      3.35      1.20   \n",
       "51             Take-Two Interactive      6.76      3.07      0.14   \n",
       "54      Sony Computer Entertainment      2.96      4.82      0.81   \n",
       "55                       Activision      4.99      3.64      0.38   \n",
       "57             Take-Two Interactive      4.76      3.69      0.44   \n",
       "60                       Activision      6.73      2.56      0.04   \n",
       "61                          Ubisoft      5.95      3.11      0.00   \n",
       "64           Microsoft Game Studios      7.04      1.95      0.08   \n",
       "66           Microsoft Game Studios      6.65      2.28      0.04   \n",
       "68                          Ubisoft      5.80      2.85      0.01   \n",
       "69                       Activision      4.10      3.63      0.38   \n",
       "...                             ...       ...       ...       ...   \n",
       "16490                  Nordic Games      0.01      0.00      0.00   \n",
       "16503            Bigben Interactive      0.01      0.00      0.00   \n",
       "16504                         PQube      0.00      0.00      0.01   \n",
       "16513               Milestone S.r.l      0.00      0.01      0.00   \n",
       "16514                      Nintendo      0.00      0.00      0.01   \n",
       "16516                   Codemasters      0.00      0.01      0.00   \n",
       "16527                     Interplay      0.00      0.01      0.00   \n",
       "16530                 Kalypso Media      0.01      0.00      0.00   \n",
       "16532  Konami Digital Entertainment      0.00      0.01      0.00   \n",
       "16534               Stainless Games      0.01      0.00      0.00   \n",
       "16536                         Atari      0.00      0.01      0.00   \n",
       "16541                   Codemasters      0.00      0.01      0.00   \n",
       "16549                    Activision      0.01      0.00      0.00   \n",
       "16553                          Sega      0.00      0.01      0.00   \n",
       "16554              Black Bean Games      0.00      0.01      0.00   \n",
       "16555  Konami Digital Entertainment      0.00      0.01      0.00   \n",
       "16576                    1C Company      0.00      0.01      0.00   \n",
       "16588                    Activision      0.01      0.00      0.00   \n",
       "16601                   Deep Silver      0.00      0.01      0.00   \n",
       "16617            Namco Bandai Games      0.01      0.00      0.00   \n",
       "16618             Eidos Interactive      0.00      0.01      0.00   \n",
       "16624                       Nobilis      0.00      0.01      0.00   \n",
       "16634               Milestone S.r.l      0.00      0.01      0.00   \n",
       "16644                   Codemasters      0.00      0.01      0.00   \n",
       "16656                      Nintendo      0.00      0.01      0.00   \n",
       "16664         Introversion Software      0.01      0.00      0.00   \n",
       "16696  Konami Digital Entertainment      0.00      0.01      0.00   \n",
       "16700                     Destineer      0.01      0.00      0.00   \n",
       "16706                       Unknown      0.00      0.01      0.00   \n",
       "16709             DTP Entertainment      0.00      0.01      0.00   \n",
       "\n",
       "       Other_Sales  Global_Sales  Critic_Score  Critic_Count    ...     \\\n",
       "2             3.29         35.52          82.0          73.0    ...      \n",
       "3             2.95         32.77          80.0          73.0    ...      \n",
       "7             2.84         28.92          58.0          41.0    ...      \n",
       "8             2.24         28.32          87.0          80.0    ...      \n",
       "13            2.15         22.70          80.0          63.0    ...      \n",
       "14            1.69         21.81          61.0          45.0    ...      \n",
       "15            1.77         21.79          80.0          33.0    ...      \n",
       "16            3.96         21.04          97.0          50.0    ...      \n",
       "23            1.41         16.27          97.0          58.0    ...      \n",
       "29            1.32         14.73          88.0          81.0    ...      \n",
       "32            1.13         14.61          87.0          89.0    ...      \n",
       "34            2.42         13.79          83.0          21.0    ...      \n",
       "35            1.12         13.67          83.0          73.0    ...      \n",
       "36            1.28         13.47          94.0         100.0    ...      \n",
       "37            1.57         13.32          88.0          39.0    ...      \n",
       "39            1.01         12.84          93.0          81.0    ...      \n",
       "41            1.79         12.63          88.0          58.0    ...      \n",
       "42            1.97         12.61          97.0          66.0    ...      \n",
       "44            1.21         12.12          94.0          86.0    ...      \n",
       "49            0.74         11.35          97.0          73.0    ...      \n",
       "51            1.03         11.01          98.0          86.0    ...      \n",
       "54            2.11         10.70          84.0          82.0    ...      \n",
       "55            1.60         10.60          94.0          67.0    ...      \n",
       "57            1.61         10.50          98.0          64.0    ...      \n",
       "60            0.91         10.25          73.0          29.0    ...      \n",
       "61            1.06         10.12          74.0          15.0    ...      \n",
       "64            0.79          9.86          91.0          99.0    ...      \n",
       "66            0.74          9.71          87.0          87.0    ...      \n",
       "68            0.78          9.44          74.0          24.0    ...      \n",
       "69            1.25          9.36          71.0          10.0    ...      \n",
       "...            ...           ...           ...           ...    ...      \n",
       "16490         0.00          0.01          42.0           9.0    ...      \n",
       "16503         0.00          0.01          70.0          27.0    ...      \n",
       "16504         0.00          0.01          69.0          13.0    ...      \n",
       "16513         0.00          0.01          78.0           4.0    ...      \n",
       "16514         0.00          0.01          82.0           9.0    ...      \n",
       "16516         0.00          0.01          87.0           6.0    ...      \n",
       "16527         0.00          0.01          83.0          22.0    ...      \n",
       "16530         0.00          0.01          61.0           9.0    ...      \n",
       "16532         0.00          0.01          78.0           8.0    ...      \n",
       "16534         0.00          0.01          51.0          28.0    ...      \n",
       "16536         0.00          0.01          55.0          19.0    ...      \n",
       "16541         0.00          0.01          63.0          25.0    ...      \n",
       "16549         0.00          0.01          58.0           6.0    ...      \n",
       "16553         0.00          0.01          74.0           9.0    ...      \n",
       "16554         0.00          0.01          62.0          16.0    ...      \n",
       "16555         0.00          0.01          88.0           6.0    ...      \n",
       "16576         0.00          0.01          82.0          25.0    ...      \n",
       "16588         0.00          0.01          78.0          13.0    ...      \n",
       "16601         0.00          0.01          65.0          16.0    ...      \n",
       "16617         0.00          0.01          49.0          32.0    ...      \n",
       "16618         0.00          0.01          70.0          11.0    ...      \n",
       "16624         0.00          0.01          80.0          50.0    ...      \n",
       "16634         0.00          0.01          63.0           8.0    ...      \n",
       "16644         0.00          0.01          51.0           8.0    ...      \n",
       "16656         0.00          0.01          81.0          46.0    ...      \n",
       "16664         0.00          0.01          74.0          13.0    ...      \n",
       "16696         0.00          0.01          80.0          20.0    ...      \n",
       "16700         0.00          0.01          61.0          12.0    ...      \n",
       "16706         0.00          0.01          60.0          12.0    ...      \n",
       "16709         0.00          0.01          63.0           6.0    ...      \n",
       "\n",
       "      Genre_Role-Playing  Genre_Shooter Genre_Simulation  Genre_Sports  \\\n",
       "2                      0              0                0             0   \n",
       "3                      0              0                0             1   \n",
       "7                      0              0                0             0   \n",
       "8                      0              0                0             0   \n",
       "13                     0              0                0             1   \n",
       "14                     0              0                0             0   \n",
       "15                     0              0                0             1   \n",
       "16                     0              0                0             0   \n",
       "23                     0              0                0             0   \n",
       "29                     0              1                0             0   \n",
       "32                     0              1                0             0   \n",
       "34                     0              1                0             0   \n",
       "35                     0              1                0             0   \n",
       "36                     0              1                0             0   \n",
       "37                     0              1                0             0   \n",
       "39                     0              0                0             0   \n",
       "41                     0              1                0             0   \n",
       "42                     0              0                0             0   \n",
       "44                     0              1                0             0   \n",
       "49                     0              0                0             0   \n",
       "51                     0              0                0             0   \n",
       "54                     0              0                0             0   \n",
       "55                     0              1                0             0   \n",
       "57                     0              0                0             0   \n",
       "60                     0              1                0             0   \n",
       "61                     0              0                0             0   \n",
       "64                     0              1                0             0   \n",
       "66                     0              1                0             0   \n",
       "68                     0              0                0             0   \n",
       "69                     0              1                0             0   \n",
       "...                  ...            ...              ...           ...   \n",
       "16490                  0              0                0             0   \n",
       "16503                  0              0                0             0   \n",
       "16504                  0              0                0             0   \n",
       "16513                  0              0                0             0   \n",
       "16514                  0              0                0             0   \n",
       "16516                  0              0                0             0   \n",
       "16527                  1              0                0             0   \n",
       "16530                  1              0                0             0   \n",
       "16532                  0              0                0             1   \n",
       "16534                  0              0                0             0   \n",
       "16536                  0              0                0             0   \n",
       "16541                  0              1                0             0   \n",
       "16549                  0              0                0             0   \n",
       "16553                  0              0                0             0   \n",
       "16554                  0              0                0             0   \n",
       "16555                  0              0                0             1   \n",
       "16576                  1              0                0             0   \n",
       "16588                  0              0                0             0   \n",
       "16601                  0              0                0             0   \n",
       "16617                  0              0                0             0   \n",
       "16618                  0              0                0             0   \n",
       "16624                  0              0                0             0   \n",
       "16634                  0              0                0             0   \n",
       "16644                  0              0                0             0   \n",
       "16656                  0              0                0             0   \n",
       "16664                  0              0                0             0   \n",
       "16696                  0              0                0             0   \n",
       "16700                  0              1                0             0   \n",
       "16706                  0              0                0             0   \n",
       "16709                  0              0                0             0   \n",
       "\n",
       "       Genre_Strategy  Rating_E  Rating_E10+  Rating_M  Rating_RP  Rating_T  \n",
       "2                   0         1            0         0          0         0  \n",
       "3                   0         1            0         0          0         0  \n",
       "7                   0         1            0         0          0         0  \n",
       "8                   0         1            0         0          0         0  \n",
       "13                  0         1            0         0          0         0  \n",
       "14                  0         1            0         0          0         0  \n",
       "15                  0         1            0         0          0         0  \n",
       "16                  0         0            0         1          0         0  \n",
       "23                  0         0            0         1          0         0  \n",
       "29                  0         0            0         1          0         0  \n",
       "32                  0         0            0         1          0         0  \n",
       "34                  0         0            0         1          0         0  \n",
       "35                  0         0            0         1          0         0  \n",
       "36                  0         0            0         1          0         0  \n",
       "37                  0         0            0         1          0         0  \n",
       "39                  0         0            0         0          0         1  \n",
       "41                  0         0            0         1          0         0  \n",
       "42                  0         0            0         1          0         0  \n",
       "44                  0         0            0         1          0         0  \n",
       "49                  0         1            0         0          0         0  \n",
       "51                  0         0            0         1          0         0  \n",
       "54                  0         1            0         0          0         0  \n",
       "55                  0         0            0         1          0         0  \n",
       "57                  0         0            0         1          0         0  \n",
       "60                  0         0            0         1          0         0  \n",
       "61                  0         0            1         0          0         0  \n",
       "64                  0         0            0         1          0         0  \n",
       "66                  0         0            0         1          0         0  \n",
       "68                  0         0            1         0          0         0  \n",
       "69                  0         0            0         1          0         0  \n",
       "...               ...       ...          ...       ...        ...       ...  \n",
       "16490               0         0            1         0          0         0  \n",
       "16503               0         0            0         0          0         1  \n",
       "16504               0         0            0         0          0         1  \n",
       "16513               0         1            0         0          0         0  \n",
       "16514               0         1            0         0          0         0  \n",
       "16516               0         0            0         0          0         1  \n",
       "16527               0         0            0         0          0         1  \n",
       "16530               0         0            0         0          0         1  \n",
       "16532               0         1            0         0          0         0  \n",
       "16534               0         0            0         1          0         0  \n",
       "16536               0         0            0         1          0         0  \n",
       "16541               0         0            0         1          0         0  \n",
       "16549               0         0            1         0          0         0  \n",
       "16553               0         1            0         0          0         0  \n",
       "16554               0         1            0         0          0         0  \n",
       "16555               0         1            0         0          0         0  \n",
       "16576               0         0            0         0          0         1  \n",
       "16588               0         0            0         0          0         1  \n",
       "16601               0         0            0         1          0         0  \n",
       "16617               0         0            0         0          0         1  \n",
       "16618               0         0            0         1          0         0  \n",
       "16624               0         0            1         0          0         0  \n",
       "16634               0         1            0         0          0         0  \n",
       "16644               1         0            1         0          0         0  \n",
       "16656               0         1            0         0          0         0  \n",
       "16664               0         0            0         0          0         1  \n",
       "16696               0         0            0         1          0         0  \n",
       "16700               0         0            0         0          0         1  \n",
       "16706               1         0            1         0          0         0  \n",
       "16709               0         0            0         0          0         1  \n",
       "\n",
       "[3546 rows x 37 columns]>"
      ]
     },
     "execution_count": 20,
     "metadata": {},
     "output_type": "execute_result"
    }
   ],
   "source": [
    "print(data.shape) #pre-dummies shape\n",
    "data = pd.get_dummies(data=data, columns=['Platform', 'Genre', 'Rating'])\n",
    "print(data.shape) #post-dummies shape\n",
    "data.head #Check to verify that dummies are ok"
   ]
  },
  {
   "cell_type": "markdown",
   "metadata": {
    "_cell_guid": "046674bc-f6de-4351-bd2b-c4be166ff20c",
    "_uuid": "4c480475027fb09d6dd7539cdad913a859e882dc"
   },
   "source": [
    "Great! Let's drop the features we wish to discard for our models. These include:\n",
    "\n",
    "* Name\n",
    "* Publisher\n",
    "* Developer\n",
    "* NA_Sales\n",
    "* EU_Sales\n",
    "* JP_Sales\n",
    "* Other_Sales"
   ]
  },
  {
   "cell_type": "code",
   "execution_count": 21,
   "metadata": {
    "_cell_guid": "021f90b0-aa65-424a-aafe-897ca796023a",
    "_uuid": "4420562a69d3a8ecd11a09065236ccf4b7ddf249",
    "collapsed": true
   },
   "outputs": [],
   "source": [
    "data = data.drop(['Name', 'Publisher', 'Developer', 'NA_Sales', 'EU_Sales', 'JP_Sales', 'Other_Sales'], axis=1)"
   ]
  },
  {
   "cell_type": "markdown",
   "metadata": {
    "_cell_guid": "20b3f4a7-b4b0-49e2-809d-c3408f956aae",
    "_uuid": "82283772c729b3aeb751068d4f4a1c7a5ad4c2e0"
   },
   "source": [
    " Let's define X and Y and then split into training and test data"
   ]
  },
  {
   "cell_type": "code",
   "execution_count": 22,
   "metadata": {
    "_cell_guid": "f2045a0d-12e5-4123-9a62-08e763f15d82",
    "_uuid": "b43babbd90a6e48ca925ee827da5680a4a397393",
    "collapsed": true
   },
   "outputs": [
    {
     "name": "stdout",
     "output_type": "stream",
     "text": [
      "Index(['Year_of_Release', 'Global_Sales', 'Critic_Score', 'Critic_Count',\n",
      "       'User_Score', 'User_Count', 'Platform_PC', 'Platform_PS3',\n",
      "       'Platform_PS4', 'Platform_Wii', 'Platform_WiiU', 'Platform_X360',\n",
      "       'Platform_XOne', 'Genre_Action', 'Genre_Adventure', 'Genre_Fighting',\n",
      "       'Genre_Misc', 'Genre_Platform', 'Genre_Puzzle', 'Genre_Racing',\n",
      "       'Genre_Role-Playing', 'Genre_Shooter', 'Genre_Simulation',\n",
      "       'Genre_Sports', 'Genre_Strategy', 'Rating_E', 'Rating_E10+', 'Rating_M',\n",
      "       'Rating_RP', 'Rating_T'],\n",
      "      dtype='object')\n",
      "(3546, 29)\n",
      "(3546, 1)\n"
     ]
    }
   ],
   "source": [
    "print(data.columns) #easy to copy-paste the values to rearrange from here\n",
    "\n",
    "X = data[['Year_of_Release', 'Critic_Score', 'Critic_Count',\n",
    "       'User_Score', 'User_Count', 'Platform_PC', 'Platform_PS3',\n",
    "       'Platform_PS4', 'Platform_Wii', 'Platform_WiiU', 'Platform_X360',\n",
    "       'Platform_XOne', 'Genre_Action', 'Genre_Adventure', 'Genre_Fighting',\n",
    "       'Genre_Misc', 'Genre_Platform', 'Genre_Puzzle', 'Genre_Racing',\n",
    "       'Genre_Role-Playing', 'Genre_Shooter', 'Genre_Simulation',\n",
    "       'Genre_Sports', 'Genre_Strategy', 'Rating_E', 'Rating_E10+', 'Rating_M',\n",
    "       'Rating_RP', 'Rating_T']]\n",
    "\n",
    "Y = data[['Global_Sales']]\n",
    "\n",
    "#Double checking the shape\n",
    "print(X.shape)\n",
    "print(Y.shape)"
   ]
  },
  {
   "cell_type": "code",
   "execution_count": 23,
   "metadata": {
    "_cell_guid": "66632955-c50c-4337-9ad5-036b491c5bd0",
    "_uuid": "5a65f3acce86bbde6efbbde056148f3b74b199eb",
    "collapsed": true
   },
   "outputs": [
    {
     "name": "stdout",
     "output_type": "stream",
     "text": [
      "X_train shape: (2659, 29)\n",
      "Y_train shape: (2659, 1)\n",
      "X_test shape: (887, 29)\n",
      "Y_test shape: (887, 1)\n"
     ]
    }
   ],
   "source": [
    "from sklearn.model_selection import train_test_split\n",
    "\n",
    "X_train, X_test, Y_train, Y_test = train_test_split(X, Y, random_state=42)\n",
    "\n",
    "#Let's check the shape of the split data as a precaution\n",
    "print(\"X_train shape: {}\".format(X_train.shape))\n",
    "print(\"Y_train shape: {}\".format(Y_train.shape))\n",
    "\n",
    "print(\"X_test shape: {}\".format(X_test.shape))\n",
    "print(\"Y_test shape: {}\".format(Y_test.shape))"
   ]
  },
  {
   "cell_type": "markdown",
   "metadata": {
    "_cell_guid": "0b6d5b21-d60a-445b-b8b1-4b68788d1f79",
    "_uuid": "e2c91bb0e93bd08c49d8f266a9f80299e8224a70"
   },
   "source": [
    "Now that we have the test split into training and test data we can still do some final scaling of the data before fitting the models. \n",
    "\n",
    "As mentioned previously, lets do a log-transformation of the dependent variable in both the training and test data."
   ]
  },
  {
   "cell_type": "code",
   "execution_count": 24,
   "metadata": {
    "_cell_guid": "a5ca8ba8-4177-4bcc-9a94-d29e44154849",
    "_uuid": "ce20251262e98213f2d7db4365d9e4ffc1fa3d56",
    "collapsed": true
   },
   "outputs": [],
   "source": [
    "#We use the numpy fuction log1p which  applies log(1+x) to all elements of the column\n",
    "Y_train = np.log1p(Y_train)\n",
    "Y_test = np.log1p(Y_test)"
   ]
  },
  {
   "cell_type": "code",
   "execution_count": 25,
   "metadata": {
    "_cell_guid": "bfd152a6-22ea-43a3-972f-df26e6a737c6",
    "_uuid": "05d53485a4c4c6993b62c41f4e99cb24a23000e6",
    "collapsed": true
   },
   "outputs": [
    {
     "name": "stdout",
     "output_type": "stream",
     "text": [
      "\n",
      " mu = 0.43 and sigma = 0.48\n",
      "\n"
     ]
    },
    {
     "data": {
      "image/png": "[encoded data removed]",
      "text/plain": [
       "<matplotlib.figure.Figure at 0x7f931d01ff28>"
      ]
     },
     "metadata": {},
     "output_type": "display_data"
    },
    {
     "data": {
      "image/png": "[encoded data removed]",
      "text/plain": [
       "<matplotlib.figure.Figure at 0x7f931d094c50>"
      ]
     },
     "metadata": {},
     "output_type": "display_data"
    }
   ],
   "source": [
    "#Check the new distribution \n",
    "Y_log_transformed = np.log1p(data['Global_Sales']) #For comparison to earlier, here's the whole Y transformed\n",
    "sns.distplot(Y_log_transformed , fit=norm);\n",
    "\n",
    "# Get the fitted parameters used by the function\n",
    "(mu, sigma) = norm.fit(Y_log_transformed)\n",
    "print( '\\n mu = {:.2f} and sigma = {:.2f}\\n'.format(mu, sigma))\n",
    "\n",
    "#Now plot the distribution\n",
    "plt.legend(['Normal dist. ($\\mu=$ {:.2f} and $\\sigma=$ {:.2f} )'.format(mu, sigma)],\n",
    "            loc='best')\n",
    "plt.ylabel('Frequency')\n",
    "plt.title('Global_Sales distribution')\n",
    "\n",
    "#Get also the QQ-plot\n",
    "fig = plt.figure()\n",
    "res = stats.probplot(Y_log_transformed, plot=plt)\n",
    "plt.show()\n"
   ]
  },
  {
   "cell_type": "markdown",
   "metadata": {
    "_cell_guid": "4a22856b-c412-458a-a325-d60bdd0ff830",
    "_uuid": "13c4a4f3204d5f5fc94b3bc968c9cdb19a283a51"
   },
   "source": [
    "As we can see, the log-transformation didn't do too much to help us normalize the data. To be honest, this step might not be all that useful, especially if we choose to fit models that can handle non-linear data pretty well. None the less, not much harm done either, so let's proceed.\n",
    "\n",
    "Let's fit X_train and scale X_train and X_test with the MinMax Scaler to get all independent variables in a similar range."
   ]
  },
  {
   "cell_type": "code",
   "execution_count": 26,
   "metadata": {
    "_cell_guid": "b1dcfe97-7b2b-4890-a7ba-827dbc688660",
    "_uuid": "28e28010863413a76b1f8c3bd4d97a23f2518607",
    "collapsed": true
   },
   "outputs": [],
   "source": [
    "from sklearn.preprocessing import MinMaxScaler\n",
    "\n",
    "scaler = MinMaxScaler()\n",
    "scaler.fit(X_train)\n",
    "\n",
    "X_train_scaled = scaler.transform(X_train) \n",
    "X_test_scaled = scaler.transform(X_test)"
   ]
  },
  {
   "cell_type": "markdown",
   "metadata": {
    "_cell_guid": "e8989889-aaee-4971-aaeb-bd6cd580c8ba",
    "_uuid": "3ec66efc528381af872ffb0bdd231b65be0a9965"
   },
   "source": [
    "Now we are really close to the fun part. First however, we need to prepare our grids for grid search. For this, we need to decide, which models we will use. So let's try:\n",
    "\n",
    "* Linear Regression\n",
    "* Lasso\n",
    "* Ridge Regression\n",
    "* Support Vector Regressor\n",
    "* Random Forest\n",
    "* Gradient Boosting Regressor\n",
    "* MLP Regressor a.k.a. a Neural Network"
   ]
  },
  {
   "cell_type": "code",
   "execution_count": 27,
   "metadata": {
    "_cell_guid": "2fc2a2fb-763a-4c88-9e9f-10d9227379c3",
    "_uuid": "7df0801a72fb8a531732ed01698bc864f5b42795",
    "collapsed": true
   },
   "outputs": [],
   "source": [
    "#No grid to define for vanilla linear regression\n",
    "param_grid_lr = [\n",
    "    {}\n",
    "]\n",
    "\n",
    "#Parameter grid for lasso\n",
    "param_grid_lasso = [\n",
    "    {'alpha': [10, 1, 0.1, 0.01, 0.001, 0.0001], 'max_iter': [1000000, 100000, 10000, 1000]}\n",
    "]\n",
    "\n",
    "#Parameter grid for Ridge Regression\n",
    "param_grid_rr = [\n",
    "    {'alpha': [100, 10, 1, 0.1, 0.01, 0.001]}\n",
    "]\n",
    "\n",
    "#Parameter grid for Support Vector Regressor\n",
    "param_grid_svr = [\n",
    "    {'C': [0.01, 0.1, 1, 10], 'gamma': [0.0001, 0.001, 0.01, 0.1, 1],\n",
    "     'kernel': ['rbf']}\n",
    "]\n",
    "\n",
    "#Parameter grid for Random Forest\n",
    "param_grid_rf = [\n",
    "    {'n_estimators': [3, 10, 30, 50, 70], 'max_features': [2,4,6,8,10,12], 'max_depth': [2, 3, 5, 7, 9]}\n",
    "]\n",
    "\n",
    "#Parameter grid for Gradient Boosting Regressor\n",
    "param_grid_gbr = [\n",
    "    {'n_estimators': [200, 225, 250, 275], 'max_features': [6, 8, 10, 12], 'max_depth': [5, 7, 9]}\n",
    "]\n",
    "\n",
    "#Parameter grid for MLPRegressor. \n",
    "#Current set of hyperparameters are the result of grid search that took forever.\n",
    "param_grid_mlpr = [\n",
    "    {'hidden_layer_sizes': [(10,5)], 'solver': ['lbfgs'], 'batch_size': [200],\n",
    "     'learning_rate': ['adaptive'], 'max_iter': [800], 'verbose': [True], \n",
    "     'nesterovs_momentum': [True], 'early_stopping': [True], 'validation_fraction': [0.12],\n",
    "     'random_state': [100], 'alpha': [0.1], 'activation': ['logistic']}\n",
    "]"
   ]
  },
  {
   "cell_type": "markdown",
   "metadata": {
    "_cell_guid": "21a0f64a-77cf-45f1-9e5b-f0e15ae2e821",
    "_uuid": "2dda4849e6e5243e332688ca76ddb4e9b5262eed"
   },
   "source": [
    "Now that we have the parameter grids, let's implement the models one by one and see which does the best. \n",
    "\n",
    "Let's use RMSE for scoring the models. The interpretation for RMSE, or Root Mean Squared Error, is more intuitive than that of the MSE as RMSE is an absolute measure of fit. It thus tells us our error in actual sales units. Also, to quote theanalysisfactor.com: \"RMSE is a good measure of how accurately the model predicts the response, and is the most important criterion for fit if the main purpose of the model is prediction.\"\n",
    "\n",
    "However, before interpreting the RMSE, we must also do an exp transformation on the RMSE scores to undo the log transformation and for the results to be more easily interpreted. Otherwise the RMSE will be in log(Global_Sales).\n",
    "\n",
    "In conjunction with our grid search, let's use cross-validation with 5 folds."
   ]
  },
  {
   "cell_type": "code",
   "execution_count": 28,
   "metadata": {
    "_cell_guid": "c054c859-9f13-41a9-9609-51f016e279ed",
    "_uuid": "a789992a8eb83fb0e9ce45409f65cc095324fa2f",
    "collapsed": true
   },
   "outputs": [
    {
     "name": "stdout",
     "output_type": "stream",
     "text": [
      "Best parameters: {}\n",
      "Best cross-validation score: 0.41\n",
      "Test set score: 0.43\n"
     ]
    }
   ],
   "source": [
    "from sklearn.linear_model import LinearRegression\n",
    "from sklearn.model_selection import GridSearchCV\n",
    "\n",
    "grid_search_lr = GridSearchCV(LinearRegression(), param_grid_lr, scoring='neg_mean_squared_error',  cv=5)\n",
    "grid_search_lr.fit(X_train, Y_train)\n",
    "print(\"Best parameters: {}\".format(grid_search_lr.best_params_))\n",
    "lr_best_cross_val_score = (np.sqrt(-grid_search_lr.best_score_))\n",
    "print(\"Best cross-validation score: {:.2f}\".format(np.expm1(lr_best_cross_val_score)))\n",
    "lr_score = np.sqrt(-grid_search_lr.score(X_test, Y_test))\n",
    "print(\"Test set score: {:.2f}\".format(np.expm1(lr_score)))"
   ]
  },
  {
   "cell_type": "code",
   "execution_count": 29,
   "metadata": {
    "_cell_guid": "da7a39f7-fb3e-4bd4-bdad-b0aaf57dd906",
    "_uuid": "e2edadf06c00549d6a7071933a5791e0a02ff87f",
    "collapsed": true
   },
   "outputs": [
    {
     "name": "stdout",
     "output_type": "stream",
     "text": [
      "Best parameters: {'alpha': 0.0001, 'max_iter': 1000000}\n",
      "Best cross-validation score: 0.41\n",
      "Test set score: 0.43\n"
     ]
    }
   ],
   "source": [
    "from sklearn.linear_model import Lasso\n",
    "\n",
    "grid_search_lasso = GridSearchCV(Lasso(), param_grid_lasso, cv=5, scoring='neg_mean_squared_error')\n",
    "grid_search_lasso.fit(X_train, Y_train)\n",
    "print(\"Best parameters: {}\".format(grid_search_lasso.best_params_))\n",
    "lasso_best_cross_val_score = (np.sqrt(-grid_search_lasso.best_score_))\n",
    "print(\"Best cross-validation score: {:.2f}\".format(np.expm1(lasso_best_cross_val_score)))\n",
    "lasso_score = np.sqrt(-grid_search_lasso.score(X_test, Y_test))\n",
    "print(\"Test set score: {:.2f}\".format(np.expm1(lasso_score)))"
   ]
  },
  {
   "cell_type": "code",
   "execution_count": 30,
   "metadata": {
    "_cell_guid": "7ab8127a-a3e7-4d27-87bb-2e71e14ae04f",
    "_uuid": "fbe09bfae48026c86c29eef4917682d7107d288b",
    "collapsed": true
   },
   "outputs": [
    {
     "name": "stdout",
     "output_type": "stream",
     "text": [
      "Best parameters: {'alpha': 10}\n",
      "Best cross-validation score: 0.41\n",
      "Test set score: 0.43\n"
     ]
    }
   ],
   "source": [
    "from sklearn.linear_model import Ridge\n",
    "\n",
    "grid_search_rr = GridSearchCV(Ridge(), param_grid_rr, cv=5, scoring='neg_mean_squared_error')\n",
    "grid_search_rr.fit(X_train, Y_train)\n",
    "print(\"Best parameters: {}\".format(grid_search_rr.best_params_))\n",
    "rr_best_cross_val_score = (np.sqrt(-grid_search_rr.best_score_))\n",
    "print(\"Best cross-validation score: {:.2f}\".format(np.expm1(rr_best_cross_val_score)))\n",
    "rr_score = np.sqrt(-grid_search_rr.score(X_test, Y_test))\n",
    "print(\"Test set score: {:.2f}\".format(np.expm1(rr_score)))"
   ]
  },
  {
   "cell_type": "code",
   "execution_count": 31,
   "metadata": {
    "_cell_guid": "1eba2c0d-536b-411d-8db4-7d6796fd7169",
    "_uuid": "7b47413582d4a8917bbe985905dbce5c328221a8",
    "collapsed": true
   },
   "outputs": [
    {
     "name": "stdout",
     "output_type": "stream",
     "text": [
      "Best parameters: {'C': 10, 'gamma': 0.0001, 'kernel': 'rbf'}\n",
      "Best cross-validation score: 0.47\n",
      "Test set score: 0.50\n"
     ]
    }
   ],
   "source": [
    "from sklearn.svm import SVR\n",
    "\n",
    "grid_search_svr = GridSearchCV(SVR(), param_grid_svr, cv=5, scoring='neg_mean_squared_error')\n",
    "grid_search_svr.fit(X_train, Y_train)\n",
    "print(\"Best parameters: {}\".format(grid_search_svr.best_params_))\n",
    "svr_best_cross_val_score = (np.sqrt(-grid_search_svr.best_score_))\n",
    "print(\"Best cross-validation score: {:.2f}\".format(np.expm1(svr_best_cross_val_score)))\n",
    "svr_score = np.sqrt(-grid_search_svr.score(X_test, Y_test))\n",
    "print(\"Test set score: {:.2f}\".format(np.expm1(svr_score)))"
   ]
  },
  {
   "cell_type": "code",
   "execution_count": 32,
   "metadata": {
    "_cell_guid": "177d6fd8-63bb-4df9-a296-aa5ef41300fa",
    "_uuid": "ea622975d04f413c9cb838bad25091d86b3d2577",
    "collapsed": true
   },
   "outputs": [
    {
     "name": "stdout",
     "output_type": "stream",
     "text": [
      "Best parameters: {'max_depth': 9, 'max_features': 12, 'n_estimators': 70}\n",
      "Best cross-validation score: 0.34\n",
      "Test set score: 0.36\n"
     ]
    }
   ],
   "source": [
    "from sklearn.ensemble import RandomForestRegressor\n",
    "\n",
    "grid_search_rf = GridSearchCV(RandomForestRegressor(), param_grid_rf, cv=5, scoring='neg_mean_squared_error')\n",
    "grid_search_rf.fit(X_train, Y_train)\n",
    "print(\"Best parameters: {}\".format(grid_search_rf.best_params_))\n",
    "rf_best_cross_val_score = (np.sqrt(-grid_search_rf.best_score_))\n",
    "print(\"Best cross-validation score: {:.2f}\".format(np.expm1(rf_best_cross_val_score)))\n",
    "rf_score = np.sqrt(-grid_search_rf.score(X_test, Y_test))\n",
    "print(\"Test set score: {:.2f}\".format(np.expm1(rf_score)))"
   ]
  },
  {
   "cell_type": "code",
   "execution_count": 33,
   "metadata": {
    "_cell_guid": "e44aa789-01eb-4ec1-995c-1aad71140732",
    "_uuid": "ed08dfc2b0972f0f62a4903a9737ea81ecdb08c7",
    "collapsed": true
   },
   "outputs": [
    {
     "name": "stdout",
     "output_type": "stream",
     "text": [
      "Best parameters: {'max_depth': 5, 'max_features': 6, 'n_estimators': 275}\n",
      "Best cross-validation score: 0.33\n",
      "Test set score: 0.33\n"
     ]
    }
   ],
   "source": [
    "from sklearn.ensemble import GradientBoostingRegressor\n",
    "\n",
    "grid_search_gbr = GridSearchCV(GradientBoostingRegressor(), param_grid_gbr, cv=5, scoring='neg_mean_squared_error')\n",
    "grid_search_gbr.fit(X_train, Y_train)\n",
    "print(\"Best parameters: {}\".format(grid_search_gbr.best_params_))\n",
    "gbr_best_cross_val_score = (np.sqrt(-grid_search_gbr.best_score_))\n",
    "print(\"Best cross-validation score: {:.2f}\".format(np.expm1(gbr_best_cross_val_score)))\n",
    "gbr_score = np.sqrt(-grid_search_gbr.score(X_test, Y_test))\n",
    "print(\"Test set score: {:.2f}\".format(np.expm1(gbr_score)))"
   ]
  },
  {
   "cell_type": "code",
   "execution_count": 34,
   "metadata": {
    "_cell_guid": "8da32ce2-0538-4a92-8324-76f306b7bdc0",
    "_uuid": "8c740a22f4d1ef37634e91cdf4b5ca262f94d848",
    "collapsed": true
   },
   "outputs": [
    {
     "name": "stdout",
     "output_type": "stream",
     "text": [
      "Best parameters: {'activation': 'logistic', 'alpha': 0.1, 'batch_size': 200, 'early_stopping': True, 'hidden_layer_sizes': (10, 5), 'learning_rate': 'adaptive', 'max_iter': 800, 'nesterovs_momentum': True, 'random_state': 100, 'solver': 'lbfgs', 'validation_fraction': 0.12, 'verbose': True}\n",
      "Best cross-validation score: 0.41\n",
      "Test set score: 0.40\n"
     ]
    }
   ],
   "source": [
    "from sklearn.neural_network import MLPRegressor\n",
    "\n",
    "grid_search_mlpr = GridSearchCV(MLPRegressor(), param_grid_mlpr, cv=5, scoring='neg_mean_squared_error')\n",
    "grid_search_mlpr.fit(X_train, Y_train)\n",
    "print(\"Best parameters: {}\".format(grid_search_mlpr.best_params_))\n",
    "mlpr_best_cross_val_score = (np.sqrt(-grid_search_mlpr.best_score_))\n",
    "print(\"Best cross-validation score: {:.2f}\".format(np.expm1(mlpr_best_cross_val_score)))\n",
    "mlpr_score = np.sqrt(-grid_search_mlpr.score(X_test, Y_test))\n",
    "print(\"Test set score: {:.2f}\".format(np.expm1(mlpr_score)))"
   ]
  },
  {
   "cell_type": "markdown",
   "metadata": {
    "_cell_guid": "bcd60ed3-2aea-4d25-90ce-626b8a94de54",
    "_uuid": "1848dd070b95cd0febd87aa5d4e51aaddd6e620e"
   },
   "source": [
    "So the best model out of the seven we trained is the GBR! Let's therefore take a loot at the feature importances of the model as well to find out which features are the most important ones in explaining the results."
   ]
  },
  {
   "cell_type": "code",
   "execution_count": 35,
   "metadata": {
    "_cell_guid": "bde3359f-47f6-4bef-bed7-f827bd3d5341",
    "_uuid": "6d0225f079abb7407d68edc72f10412d805c5bfa",
    "collapsed": true
   },
   "outputs": [
    {
     "data": {
      "image/png": "[encoded data removed]",
      "text/plain": [
       "<matplotlib.figure.Figure at 0x7f9314dbe3c8>"
      ]
     },
     "metadata": {},
     "output_type": "display_data"
    }
   ],
   "source": [
    "# Plot feature importance\n",
    "feature_importance = grid_search_gbr.best_estimator_.feature_importances_\n",
    "# make importances relative to max importance\n",
    "feature_importance = 100.0 * (feature_importance / feature_importance.max())\n",
    "sorted_idx = np.argsort(feature_importance)\n",
    "pos = np.arange(sorted_idx.shape[0]) + .5\n",
    "plt.figure(figsize=(20,10))\n",
    "plt.subplot(1, 2, 2)\n",
    "plt.barh(pos, feature_importance[sorted_idx], align='center')\n",
    "plt.yticks(pos, X_train.columns.values[sorted_idx]) #Not 100 % sure the feature names match the importances correctly...\n",
    "plt.xlabel('Relative Importance')\n",
    "plt.title('Variable Importance')\n",
    "plt.show()"
   ]
  },
  {
   "cell_type": "markdown",
   "metadata": {
    "_cell_guid": "4a745698-4236-4aa7-8be7-932c01490576",
    "_uuid": "c03267600e168d72fbb75a44084121569e4455bd"
   },
   "source": [
    "**Results**\n",
    "\n",
    "Surprisingly, the best model IS NOT the deep neural network. Instead it's the Gradient Boosting Regressor. I would have initially picked it out to be the second best one out of the lot. This speaks to it's power as a model and also to the fact that training deep neural networks is challenging and a lot of the time it seems that you're better off choosing a simpler model, as the computational expense that DNN's bring with them may not justify the decrease in MSRE. In a sense it's kind of a \"don't bring a gun to a fistfight\" type of situation, if that makes any sense... \n",
    "\n",
    "As this was my first time training a neural network, it really dawned on me how difficult tuning those hyperparameters is to optimize your model. At the same time I can more clearly see the value in using a library like Tensorflow for training DNN's as the library brings more flexibility that can prove to be invaluable. \n",
    "\n",
    "Anyway, on to the analysis of the results! So the GBR's best cross-validation score and its test score are both 0.33 as measured in RMSE. This means that first off, the model generalizes well as the difference between the cross-validation score and the test set score is negligible. In more concrete terms however, it means that the average error the model makes in its predicitons amount to 330k units. That means that in making a forecast, on average the model will be wrong in forecasting video game sales by 330k units.\n",
    "\n",
    "Additionally, an interesting finding is that the amount of users and the amount of critics rating a game on Metacritic is more important in explaining the results than the scores themselves. My initial hypothesis would have been the other way around. In this regard, it seems that it doesn't necessarily matter as much that a game has a single esteemed critic scoring the game a 100, but rather that the game has lots of critics scoring it potentially even at a lower level to drive those unit sales.\n",
    "\n",
    "Another interesting finding is that the year of release is the fifth most important factor in explaingin the results. I would wager here that this is an indication of the fast growing video game industry: as the value for the year increases, unit sales increases mainly due to the market itself growing.\n",
    "\n",
    "In terms of platforms, the only ones that maintained some relevant measure of explanatory power was whether the game was released on PC and whether it was released on Wii. There may be many interpretations here, so it is best to be wary in interpreting this. A game being released on Wii might speak towards explaining lower unit sales due to the platform not being as popular as it's counter parts PS3 and Xbox 360. In the case of a game being released on PC, it is difficult to say which way this explanatory power goes, as PC is such a large platform with all kinds of games being released on it.\n",
    "\n",
    "However, let's get to the real question: is the model good or not?\n",
    "\n",
    "Well, it depends on the point of view. If you would use this model to forecast the unit sales of a small video game developer's game, you would be better of using other methods. The reason is that typically independent smaller studios sell under a million copies. In this case, an error of 330k units is a lot and can have a tremendous financial impact on the company, if you are relying on forecasting sales with this model. However, if you use this model to forecast the unit sales of larger AAA game developer's game, an error of 330k units, isn't that fatal. If you're forecasting the unit sales of a developer who typically sells say 3 million copies, then a roughly 10 % deviation is not fatal. Sure it isn't close to perfect, but these type of models typically aren't.\n",
    "\n",
    "So where might this model come in valuable then? I think the most obvious example is in business teams in large video game companies. They typically make sales estimates that are then reflected in project budgets etc. and most of the time, the estimates are made in similar ways that for example equity analysts make forecasts: coming up with a number off of the top of your head :) This model could thus be used as an extra input in making those sales forecasts. \n",
    "\n",
    "To finish off: creating this kernel was a lot of fun! I appreciate all types of feedback as I'm only a beginner in both Python and Machine Learning! Thanks to anyone who took the time to read this and I hope you enjoyed it!\n",
    "\n",
    "\n",
    "-jruots\n"
   ]
  }
 ],
 "metadata": {
  "kernelspec": {
   "display_name": "Python 3",
   "language": "python",
   "name": "python3"
  },
  "language_info": {
   "codemirror_mode": {
    "name": "ipython",
    "version": 3
   },
   "file_extension": ".py",
   "mimetype": "text/x-python",
   "name": "python",
   "nbconvert_exporter": "python",
   "pygments_lexer": "ipython3",
   "version": "3.11.0"
  }
 },
 "nbformat": 4,
 "nbformat_minor": 1
}
